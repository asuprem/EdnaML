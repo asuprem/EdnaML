{
  "cells": [
    {
      "attachments": {},
      "cell_type": "markdown",
      "metadata": {
        "id": "3LtQmhmQ1T_8"
      },
      "source": [
        "# Introduction\n",
        "\n",
        "This notebook introduces basic CNN models implemented in EdnaML.\n",
        "\n",
        "EdnaML defines 2 pipeline abstractions:\n",
        "\n",
        "1. **Experiment Execution**: Here, an ML model is trained on some training data, and evaluated on some corresponding test data. We perform experiment executions with `ednaml.core.EdnaML`\n",
        "2. **Model Deployment**: Here, a trained ML model is used for some predefined task, such as unseen data labeling, supervision, or as a hosted service. We perform deployments with `ednaml.core.EdnaDeploy`\n",
        "\n",
        "\n",
        "EdnaML formalizes the ML experiment and deployment pipelines into concrete steps:\n",
        "\n",
        "1. Configuration: every EdnaML experiment or deployment is managed by a configuration file, with options for each stage. While this can make configuration files somewhat daunting, they are instrumental in ensuring experiment reproducibility. Further, compared to the ad-hox approach of managing experiments by changing variables, configuration files force more modular and extensible design by adhering to EdnaML's core formalisms.\n",
        "2. Data crawling: Experiments and deployments require data. A Crawler, given some URL or folder location, builds a list of all training and testing samples. This is useful in cases where the data might not fit into memory. Then, we can use this list to determine which samples to select for a training batch. Crawlers inherit from `ednaml.crawlers.Crawler`\n",
        "3. Data processing and batching: Raw data needs to be processed so that ML models can use and transform them to predictions. Data from a crawler is passed through a data generator that implements all relevant functionality for preprocessing or live processing, selecting samples for batching, and yielding these batches when requested. Generators inherit from `ednaml.generators.ImageGenerator` or `ednaml.generators.TextGenerator`. Fully bespoke generators should inherit from `ednaml.generators.Generator`. \n",
        "4. Model building: ML Models inherit from `ednaml.models.ModelAbstract`, which formalizes the core elements of an ML model: a forward propagation step, a saving step, and a loading step, among others. \n",
        "5. Training & evaluation: Once a model is constructed, a trainer uses batches from a Generator to train a model, evaluate it, and save it at checkpoints. Trainers inherit from `ednaml.trainers.BaseTrainer`\n",
        "6. Model deployment: A fully trained model can then be deployed with a new set of crawlers and generators to provide predictions on some unseen data. Deployments inherit from `ednaml.deployments.BaseDeploy`.\n",
        "7. Trained model augmentation: Finally, a trained model may need additional functionality not integrated into the base model. For example, a model may need to provide explanations of its predictions, or confidence metrics that were not implemented during training. For these cases, model plugins add functionality to a trained model, such as augmenting outputs, adjusting predictions directly, abstention/rejection, or even active learning. Plugins inherit from `ednaml.plugins.ModelPlugin`\n",
        "\n",
        "## This Notebook\n",
        "\n",
        "Here, we introduce some core EdnaML functionality through several interactive experiments and code examples. While the first few examples are not meant to be changed, the latter examples allow you to change parameters to see changes for yourselves!\n",
        "\n"
      ]
    },
    {
      "attachments": {},
      "cell_type": "markdown",
      "metadata": {
        "id": "BZOO_ELa0PRM"
      },
      "source": [
        "# Setup Steps (if you don't have ednaml already installed)\n",
        "\n",
        "We can install either from source or from PyPi. The appropriate option can be selected from the first cell below.\n",
        "\n",
        "**Very Important**. Due to the way Colab installs certain packages, you will need to restart the runtime after installing EdnaML. Then you can proceed with future steps."
      ]
    },
    {
      "cell_type": "code",
      "execution_count": null,
      "metadata": {
        "colab": {
          "base_uri": "https://localhost:8080/"
        },
        "id": "9n75eBgQXl7p",
        "outputId": "af5285b8-edd1-4432-ec98-4db3cc90fea3"
      },
      "outputs": [],
      "source": [
        "!nvidia-smi"
      ]
    },
    {
      "cell_type": "code",
      "execution_count": null,
      "metadata": {
        "id": "J7AZehvZ0i2X"
      },
      "outputs": [],
      "source": [
        "install_from = \"source\" # source | pypi\n",
        "branch = \"devel\"           # DO NOT CHANGE THIS unless you know what you are doing\n",
        "version = \"0.1.5\"           # DO NOT CHANGE THIS unless you know what you are doing"
      ]
    },
    {
      "cell_type": "markdown",
      "metadata": {
        "id": "d5j3WfN0fpIT"
      },
      "source": [
        "###  Installation steps"
      ]
    },
    {
      "cell_type": "code",
      "execution_count": null,
      "metadata": {
        "colab": {
          "base_uri": "https://localhost:8080/"
        },
        "id": "iBWvd4b10spk",
        "outputId": "b0e17215-b020-4bc4-b8dd-b51df29a2df1"
      },
      "outputs": [],
      "source": [
        "if install_from == \"source\":\n",
        "  ! rm -rf -- EdnaML ||:\n",
        "  ! git clone -b $branch https://github.com/asuprem/EdnaML\n",
        "  ! pip install -e EdnaML/\n",
        "else:\n",
        "  ! python -V\n",
        "  ! pip3 install --pre ednaml==$version"
      ]
    },
    {
      "attachments": {},
      "cell_type": "markdown",
      "metadata": {},
      "source": [
        "## Restart Runtime"
      ]
    },
    {
      "cell_type": "code",
      "execution_count": null,
      "metadata": {},
      "outputs": [],
      "source": [
        "try:\n",
        "  import ednaml\n",
        "except (ImportError, KeyError, ModuleNotFoundError):\n",
        "  ## code to install gem\n",
        "  print('Stopping RUNTIME. Colaboratory will restart automatically.')\n",
        "  exit()"
      ]
    },
    {
      "cell_type": "markdown",
      "metadata": {
        "id": "JY04vJjxCGaD"
      },
      "source": [
        "# Basic Experiments"
      ]
    },
    {
      "cell_type": "markdown",
      "metadata": {
        "id": "QzffsEaj1P2e"
      },
      "source": [
        "## 1. Running MNIST on EdnaML\n",
        "\n",
        "To introduce most of EdnaML's functionality, we run Resnet-18 on MNIST.\n",
        "\n",
        "MNIST is a classic ML dataset of handwritten digits, [with this Wikipedia article providing additional details](https://en.wikipedia.org/wiki/MNIST_database). MNIST is a basic classification task: build a model that, given a handwritten digit, can tell us what it is, from 0 through 9.\n",
        "\n",
        "Resnet-18 is a fairly standard CNN architecture. CNNs (convolutional neural networks) are well-designed to work with images, because they somewhat replicate how biological eyes percive images. See [introductory notes on CNNs here](https://developer.ibm.com/articles/introduction-to-convolutional-neural-networks/). Resnet-18 is a relatively small model (by modern standards) that performs well on a variety of image classification tasks once it has been trained. See [additional details on Resnet-18 here if you're feeling adventurous](https://github.com/christianversloot/machine-learning-articles/blob/main/resnet-a-simple-introduction.md)."
      ]
    },
    {
      "cell_type": "code",
      "execution_count": null,
      "metadata": {
        "colab": {
          "base_uri": "https://localhost:8080/",
          "height": 35
        },
        "id": "hgqvDUeTUK6R",
        "outputId": "366ec10e-fba7-4457-b185-fac27fa34f03"
      },
      "outputs": [],
      "source": [
        "import torch, ednaml\n",
        "from ednaml.core import EdnaML\n",
        "torch.__version__"
      ]
    },
    {
      "attachments": {},
      "cell_type": "markdown",
      "metadata": {
        "id": "h9YBiVku90LW"
      },
      "source": [
        "Now that we have imported our modules, we will initialize an EdnaML experiment from the MNIST configuration. You can find the full configuration, with comments, [here](https://github.com/asuprem/EdnaML/blob/master/usage-docs/sample-configs/0-basics/cnn/mnist.yml). You should read through it!\n",
        "\n",
        "We will run it for 5 epochs. This might be slightly slow for CPUs (but still pretty fast), and very fast for GPUs. You can use Colab's free GPU for this!"
      ]
    },
    {
      "cell_type": "code",
      "execution_count": null,
      "metadata": {
        "colab": {
          "base_uri": "https://localhost:8080/",
          "height": 1000,
          "referenced_widgets": [
            "84c4b1ea33424e02898a89b04bdd3227",
            "58aa08f5ccf94667948a846b9f86b340",
            "d614a20401a4420b9ad5b183ca2dd84d",
            "0a86f56c6cd64f728556b76ef3d7261e",
            "9ed0dfafe17f45fb989e3075f9c97513",
            "d5c9ae3d4b734f2ebcc5a18f829b7b6b",
            "10b8d3f450c4442bbbd0cac3c7770f61",
            "e61bc458bdad4d6491acd878b2a1cc23",
            "d855960293e34d20a2eb7a96e041f180",
            "c1570d3dada14353986b551d03e66677",
            "b2135d0cafaf4a69896aa9bcac3c4dd1",
            "11f02fa3f80d4f0ba88a833b2371ab0a",
            "50a83fd9b3f841a48fcda382f2ff2b65",
            "9b1ee44dce79488aa4333ef9f206adb6",
            "a7c1975269c442178263c213a3da7e92",
            "14468f39cf6d400ab7ae0be8216fcbf3",
            "7ea8438ba76f4550af264f4db615b3ed",
            "bd960a4f6b40435a9455c8ff0b91bae7",
            "bbe0ff287aad4a839e658d3611875303",
            "ff33829c8af14fb59ace8ddf8186032d",
            "84ab1ffa76e2428db1f176049508a89f",
            "e1b85698fdbb4cd5bc38aa9cffe96236",
            "fd4adf18682e4576bcfcf782fb0b5eb4",
            "7887a15a0bda48ed93729a5d94d0020d",
            "cce73a5d17b1493ca5912f3b48e6bdfe",
            "42e900c851f94c5b8f0740dfb1112d93",
            "cf98207ffe0d46db9b9855646c2da12f",
            "ab690a67d28947e08ef2350ccb70a40a",
            "735c670aabbc409b9ff92c0f8a7fc01e",
            "4cb5d650ef4a40a7aafb0a99b6fbdb59",
            "514d14087f37489bbf276e40ee99308f",
            "e048ade0d493455da6a506cef6b02ca2",
            "a9979407b2e2486c96e17a1489858b0b",
            "34981b15b95d44d9be5b21fda1b69e23",
            "0bc24aae1b0842809eaea3f84e6fdaf0",
            "4fa4be9f489c47629aa09e475f437d8d",
            "7a9528eb68f34932b6ca1fe417d417d9",
            "0535b0fd934b4c31ad2a2f1dfd352c5c",
            "c6ad62c65a3b4aecad746478ac8a9399",
            "399f9e9d01b74b5a88441292d13ec2df",
            "7d92a4c9bcc24e3890e06d9c0cf6b5b3",
            "a4826f01eb1e4a29a4b1380b38fcfc62",
            "6c04cbd6328e4d1da63567d991ab489f",
            "f15c9b30694c41bb987b5d8a568babb3"
          ]
        },
        "id": "fOcH4qxl5sTY",
        "outputId": "ffe3b045-7d4f-4716-e3b0-4bc41e4a4314"
      },
      "outputs": [],
      "source": [
        "cfg = \"./EdnaML/usage-docs/sample-configs/0-basics/cnn/mnist.yml\"\n",
        "eml = EdnaML(config=cfg)\n",
        "eml.apply()"
      ]
    },
    {
      "cell_type": "code",
      "execution_count": null,
      "metadata": {
        "colab": {
          "background_save": true,
          "base_uri": "https://localhost:8080/"
        },
        "id": "IoxeQVS6USRu",
        "outputId": "4a1a9e3d-a617-4fa9-8f66-8d764d571057"
      },
      "outputs": [],
      "source": [
        "eml.train()"
      ]
    },
    {
      "cell_type": "code",
      "execution_count": null,
      "metadata": {
        "id": "-ff_dn4oUSPQ"
      },
      "outputs": [],
      "source": [
        "eml.eval()"
      ]
    },
    {
      "cell_type": "markdown",
      "metadata": {
        "id": "MBJsh5aTBzM6"
      },
      "source": [
        "## 2. Running CIFAR on EdnaML\n",
        "\n",
        "Now we will run Resnet-18 on CIFAR, another classic dataset that is more difficult to work with!\n",
        "\n",
        "CIFAR is another classic ML dataset of thumbnails, [with this Wikipedia article providing additional details](https://www.cs.toronto.edu/~kriz/cifar.html). CIFAR also has 10 classes (there is a CIFAR-100 variant with 100 classes)."
      ]
    },
    {
      "cell_type": "code",
      "execution_count": null,
      "metadata": {
        "id": "Wfb4jIYmBzM6"
      },
      "outputs": [],
      "source": [
        "import torch, ednaml\n",
        "from ednaml.core import EdnaML\n",
        "torch.__version__"
      ]
    },
    {
      "attachments": {},
      "cell_type": "markdown",
      "metadata": {
        "id": "U21Ph1euBzM6"
      },
      "source": [
        "Now that we have imported our modules, we will initialize an EdnaML experiment from the CIFAR configuration. You can find the full configuration, with comments, [here](https://github.com/asuprem/EdnaML/blob/master/usage-docs/sample-configs/0-basics/cnn/cifar.yml). You should read through it and compare it to the MNIST configuration. \n",
        "\n",
        "Compare \n",
        "\n",
        "We will run it for 5 epochs. This might be slow for CPUs, but fast for GPUs. You can use Colab's free GPU for this!"
      ]
    },
    {
      "cell_type": "code",
      "execution_count": null,
      "metadata": {
        "id": "csyb77GfBzM6"
      },
      "outputs": [],
      "source": [
        "cfg = \"./EdnaML/usage-docs/sample-configs/0-basics/cnn/cifar.yml\"\n",
        "eml = EdnaML(config=cfg)\n",
        "eml.apply()"
      ]
    },
    {
      "cell_type": "code",
      "execution_count": null,
      "metadata": {
        "id": "q54b-SJwBzM6"
      },
      "outputs": [],
      "source": [
        "eml.train()"
      ]
    },
    {
      "cell_type": "code",
      "execution_count": null,
      "metadata": {
        "id": "QtEo1X2zBzM6"
      },
      "outputs": [],
      "source": [
        "eml.eval()"
      ]
    },
    {
      "cell_type": "code",
      "execution_count": null,
      "metadata": {},
      "outputs": [],
      "source": []
    },
    {
      "attachments": {},
      "cell_type": "markdown",
      "metadata": {
        "id": "MBJsh5aTBzM6"
      },
      "source": [
        "## 3. Running CIFAR100 on EdnaML (Chaining configurations)\n",
        "\n",
        "Now we will run Resnet-18 on CIFAR100, another classic dataset. CIFAR100 has 100 classes, compared to CIFAR10\n",
        "\n",
        "To simplify our work, we can use the configuration for CIFAR-10, but replace the data components to switch the pipeline to CIFAR100. In this case, we will provide 2 configurations to EdnaML (we can provide as many as wel like). The configurations will be added in order, and subsequent configuration keys will replace prior configuration keys.\n",
        "\n",
        "There are a few rules EdnaML follows with respect to chaining configurations:\n",
        "\n",
        "1. Built-in keys are replaced if they already exist, recursively. That is, if a built-in key has subkeys, only the provided subkeys will be replaced. If some portion of sub-keys are not overridden, the original configuration remains. Built-in keys are the ones in ALL-CAPS.\n",
        "2. Custom keys are replaced if the already exist, and are replaced in full.\n",
        "\n",
        "For example, we will get `config3.yml` when combining the following 2 configurations in the order `[config1.yml, config2.yml]`:\n",
        "\n",
        "\n",
        "```\n",
        "config1.yml     +       config2.yml      =       config3.yml\n",
        "---                     --                       --\n",
        "A:                      A:                       A:\n",
        " B: val                  B: newval                B: newval\n",
        " C:                     C:                       C:\n",
        "   D: val                E: newval                D: val\n",
        "   E: val               I:                        E: newval\n",
        " F:                      m: newval               F:\n",
        "  g: val                                          g: val\n",
        "  h: val                                          h: val\n",
        " I:                                              I:\n",
        "   j: val                                         m: newval\n",
        "   k: val\n",
        "```\n",
        "\n",
        "In the following section, we are combining the [CIFAR-10 configuration](cifar.yml) with a [CIFAR-100 configuration](cifar100.yml) that will replace only the relevant details of the dataset loading, change the epochs to 10, adjust the normalization mean and std, and change the name of the experiment."
      ]
    },
    {
      "cell_type": "code",
      "execution_count": null,
      "metadata": {
        "id": "Wfb4jIYmBzM6"
      },
      "outputs": [],
      "source": [
        "import torch, ednaml\n",
        "from ednaml.core import EdnaML\n",
        "torch.__version__"
      ]
    },
    {
      "attachments": {},
      "cell_type": "markdown",
      "metadata": {
        "id": "U21Ph1euBzM6"
      },
      "source": [
        "Now that we have imported our modules, we will initialize an EdnaML experiment from the CIFAR configuration. You can find the full configuration, with comments, [here](https://github.com/asuprem/EdnaML/blob/master/usage-docs/sample-configs/0-basics/cnn/cifar.yml). You should read through it and compare it to the MNIST configuration. \n",
        "\n",
        "Compare \n",
        "\n",
        "We will run it for 5 epochs. This might be slow for CPUs, but fast for GPUs. You can use Colab's free GPU for this!"
      ]
    },
    {
      "cell_type": "code",
      "execution_count": null,
      "metadata": {
        "id": "csyb77GfBzM6"
      },
      "outputs": [],
      "source": [
        "cifar10 = \"./EdnaML/usage-docs/sample-configs/0-basics/cnn/cifar.yml\"\n",
        "cifar100 = \"./EdnaML/usage-docs/sample-configs/0-basics/cnn/cifar100.yml\"\n",
        "eml = EdnaML(config=[cifar10, cifar100])\n",
        "eml.apply()"
      ]
    },
    {
      "cell_type": "code",
      "execution_count": null,
      "metadata": {
        "id": "q54b-SJwBzM6"
      },
      "outputs": [],
      "source": [
        "eml.train()"
      ]
    },
    {
      "cell_type": "code",
      "execution_count": null,
      "metadata": {
        "id": "QtEo1X2zBzM6"
      },
      "outputs": [],
      "source": [
        "eml.eval()"
      ]
    },
    {
      "attachments": {},
      "cell_type": "markdown",
      "metadata": {
        "id": "CEqep8tYPLfN"
      },
      "source": [
        "# Adjusting Parameters in Configuration Files\n",
        "\n",
        "Now we will adjust the prior experiments by changing some of the configuration details. Ideally, these should be changed by creating a new configuration file and feeding it directly into EdnaML. \n",
        "\n",
        "For interactivity, we will change parameters here!\n",
        "\n",
        "1. But first, a note on configuration files. A complete configuration sample, will all parameters and their respective default values [is provided here](https://github.com/asuprem/EdnaML/blob/master/usage-docs/config-full.yml). **NOTE**: The exceptions are the LOSS field and OPTIMIZER field, both of whose default values are empty; we have provided values in the above sample to given an example of a simple LOSS and OPTIMIZER structure.\n",
        "\n",
        "2. Second, configurations are in YAML format. To this, we add one best-practice for EdnaML: built in keys should always be in ALL CAPS, while custom keys, such as arguments for functions and classes, should be in lowercase. For example, in the snippet from the full configuration below:\n",
        "\n",
        "```\n",
        "# EXECUTION manages ML training and evaluation. Use with EdnaML\n",
        "EXECUTION:\n",
        "  # A trainer to use, from ednaml.trainers. A custom trainer can be implicitly added\n",
        "  TRAINER: BaseTrainer\n",
        "  # Arguments for the trainer\n",
        "  TRAINER_ARGS: \n",
        "    accumulation_steps: 1\n",
        "```\n",
        "\n",
        "EXECUTION is a built-in top level key. TRAINER and TRAINER_ARGS are also  built-in keys. However, `accumulation_steps` is an argument specifically when the TRAINER is `BaseTrainer`. A different training might not even use the `accumulation_steps` argument. So, it is a custom key that should be in lowercase."
      ]
    },
    {
      "cell_type": "markdown",
      "metadata": {
        "id": "zgZqppsyRD2H"
      },
      "source": [
        "## 1. MNIST: Adjusting parameters"
      ]
    },
    {
      "cell_type": "code",
      "execution_count": null,
      "metadata": {
        "id": "c0e8i8mWjpPO"
      },
      "outputs": [],
      "source": [
        "!rm -rf -- mnist_resnet-v2-res18-mnist"
      ]
    },
    {
      "cell_type": "code",
      "execution_count": null,
      "metadata": {
        "id": "guphYeOljeY4"
      },
      "outputs": [],
      "source": [
        "%load_ext autoreload\n",
        "%autoreload 2"
      ]
    },
    {
      "cell_type": "code",
      "execution_count": null,
      "metadata": {
        "colab": {
          "base_uri": "https://localhost:8080/",
          "height": 36
        },
        "id": "weyU0mICPK5Q",
        "outputId": "d4cd2cb9-854a-49e2-9022-3c666c615124"
      },
      "outputs": [],
      "source": [
        "import torch, ednaml\n",
        "from ednaml.core import EdnaML\n",
        "torch.__version__"
      ]
    },
    {
      "cell_type": "markdown",
      "metadata": {
        "id": "bZ8LBrAYRwBp"
      },
      "source": [
        "We will change the built-in keys with the `config_inject` argument for EdnaML.\n",
        "\n",
        "We will change the custom keys afterwards."
      ]
    },
    {
      "cell_type": "code",
      "execution_count": null,
      "metadata": {
        "id": "q7OWs8YgRKew"
      },
      "outputs": [],
      "source": [
        "cfg = \"./EdnaML/usage-docs/sample-configs/0-basics/cnn/mnist.yml\"\n",
        "eml = EdnaML(config=cfg, config_inject = [\n",
        "    (\"EXECUTION.EPOCHS\", 2),              # Here, we change the EPOCHS parameter inside the EXECUTION key to be 2 epochs\n",
        "    (\"SAVE.MODEL_VERSION\", 2),            # We also change the version for this new experiment, so that we do not overwrite an existing model!\n",
        "    (\"LOGGING.STEP_VERBOSE\", 50),         # We adjust how often intermediate results are printed\n",
        "    (\"SAVE.STEP_SAVE_FREQUENCY\", 200)     # We adjust how often intermediate model is saved\n",
        "])\n",
        "\n",
        "\n",
        "eml.cfg.OPTIMIZER[0].BASE_LR = 1e-4   # Since the OPTIMIZER parameters are in a list, it is easier to change them outside of `config_inject`\n",
        "\n",
        "eml.cfg.EXECUTION.TRAINER_ARGS[\"accumulation_steps\"] = 1  # We change accumulation steps to 1\n",
        "eml.cfg.SCHEDULER[0].LR_KWARGS[\"step_size\"] = 1           # We adjust the scheduler step size to change every 1 epoch, instead of 5 epochs\n",
        "\n",
        "\n",
        "eml.apply()"
      ]
    },
    {
      "cell_type": "code",
      "execution_count": null,
      "metadata": {
        "id": "pkyaocG_RKex"
      },
      "outputs": [],
      "source": [
        "eml.train()"
      ]
    },
    {
      "cell_type": "code",
      "execution_count": null,
      "metadata": {
        "id": "mOsqDNK9RKex"
      },
      "outputs": [],
      "source": [
        "eml.eval()"
      ]
    },
    {
      "cell_type": "markdown",
      "metadata": {
        "id": "Hvqd9xjISki3"
      },
      "source": [
        "# Using Custom Models\n",
        "\n",
        "Now we will look at an example for running a custom model on MNIST, instead of Resnet-18\n",
        "\n",
        "Specifically, we will implement the model from [this medium article](https://medium.com/@nutanbhogendrasharma/pytorch-convolutional-neural-network-with-mnist-dataset-4e8a4265e118) inside ModelAbstract."
      ]
    },
    {
      "cell_type": "code",
      "execution_count": null,
      "metadata": {
        "id": "MntdPYHbWBdv"
      },
      "outputs": [],
      "source": [
        "import torch, ednaml\n",
        "from ednaml.core import EdnaML\n",
        "torch.__version__"
      ]
    },
    {
      "cell_type": "code",
      "execution_count": null,
      "metadata": {
        "id": "2oKPgV1-WC97"
      },
      "outputs": [],
      "source": [
        "# Here we define our custom model class\n",
        "from ednaml.models import ModelAbstract\n",
        "from torch import nn\n",
        "\n",
        "class MNISTModel(ModelAbstract):\n",
        "  def model_attributes_setup(self, **kwargs):\n",
        "    pass\n",
        "  def model_setup(self, **kwargs):\n",
        "    self.conv1 = nn.Sequential(         \n",
        "        nn.Conv2d(\n",
        "            in_channels=1,              \n",
        "            out_channels=16,            \n",
        "            kernel_size=5,              \n",
        "            stride=1,                   \n",
        "            padding=2,                  \n",
        "        ),                              \n",
        "        nn.ReLU(),                      \n",
        "        nn.MaxPool2d(kernel_size=2),    \n",
        "    )\n",
        "    self.conv2 = nn.Sequential(         \n",
        "        nn.Conv2d(16, 32, 5, 1, 2),     \n",
        "        nn.ReLU(),                      \n",
        "        nn.MaxPool2d(2),                \n",
        "    )\n",
        "    # fully connected layer, output 10 classes\n",
        "    self.out = nn.Linear(32 * 7 * 7, 10)\n",
        "    \n",
        "  def forward_impl(self, x):\n",
        "    x = self.conv1(x)\n",
        "    x = self.conv2(x)\n",
        "    # flatten the output of conv2 to (batch_size, 32 * 7 * 7)\n",
        "    x = x.view(x.size(0), -1)       \n",
        "    output = self.out(x)\n",
        "    return output, x, []    # A ModelAbstract should return the prediction, the features, and any additional output (i.e. the empty list, because we have no additional outputs)"
      ]
    },
    {
      "cell_type": "markdown",
      "metadata": {
        "id": "CdGyo1d8WBdv"
      },
      "source": [
        "We will change the built-in keys with the `config_inject` argument for EdnaML.\n",
        "\n",
        "We will change the custom keys afterwards."
      ]
    },
    {
      "cell_type": "code",
      "execution_count": null,
      "metadata": {
        "id": "4kEUpdmnWBdv"
      },
      "outputs": [],
      "source": [
        "cfg = \"./EdnaML/usage-docs/sample-configs/0-basics/cnn/mnist.yml\"\n",
        "eml = EdnaML(config=cfg, config_inject = [\n",
        "    (\"SAVE.MODEL_VERSION\", 3),            # We switch to version 3 for this experiment\n",
        "    (\"TRANSFORMATION.BATCH_SIZE\", 256),   # We will also increase the batch size\n",
        "    (\"LOGGING.INPUT_SIZE\", [256,1,28,28]),   # We will also fix the input size\n",
        "])\n",
        "\n",
        "\n",
        "eml.cfg.MODEL.MODEL_KWARGS = {}       # We delete the old MODEL_KWARGS, because our new model needs no arguments\n",
        "\n",
        "eml.addModelClass(MNISTModel)\n",
        "eml.apply()"
      ]
    },
    {
      "cell_type": "code",
      "execution_count": null,
      "metadata": {
        "id": "efrlTZRaWBdv"
      },
      "outputs": [],
      "source": [
        "eml.train()"
      ]
    },
    {
      "cell_type": "code",
      "execution_count": null,
      "metadata": {
        "id": "fSjeDZVgWBdw"
      },
      "outputs": [],
      "source": [
        "eml.eval()"
      ]
    },
    {
      "cell_type": "markdown",
      "metadata": {
        "id": "ET2xAQ2Lb9Cs"
      },
      "source": [
        "# Your turn\n",
        "\n",
        "Try repeating the above, but for CIFAR 10.\n",
        "\n",
        "You will need to do the following:\n",
        "\n",
        "1. Define a custom CIFAR10 model. You should use the model defined in Step 2 [in this page](https://pytorch.org/tutorials/beginner/blitz/cifar10_tutorial.html), with the following changes\n",
        "\n",
        "  a. Put the layer definitions (everything in `__init__` EXCEPT for `super().__init__()` in `model_setup(self, **kwargs)`\n",
        "\n",
        "  b. Remove the `__init__` function; ModelAbstract implements it\n",
        "\n",
        "  c. Rename the `forward` function to `forward_impl`\n",
        "\n",
        "  d. Make sure to return outputs, features, and an empty list, just like MNISTModel\n",
        "\n",
        "  e. For this, you will have to change the last line in `forward_impl` to be `output = self.fc3(x)`. Then you can return `output` *and* `x`, *and* an empty list\n",
        "2. Use the `cifar.yml` configuration, with the appropriate changes:\n",
        "  a. You can inject a `SAVE.MODEL_VERSION` to be version 2\n",
        "3. Plug your custom CIFAR model into EdnaML (with `eml.addModelClass`!)\n",
        "\n",
        "You can increase or decrease the batch size, if you want, or change the learning rate (see how we adjusted parameters for MNIST earlier)\n",
        "\n",
        "Your accuracy should be around 50-60%. Not a great model, by any means, but a good start!"
      ]
    },
    {
      "cell_type": "code",
      "execution_count": null,
      "metadata": {
        "id": "OO-59ovLdabh"
      },
      "outputs": [],
      "source": [
        "import torch, ednaml\n",
        "from ednaml.core import EdnaML\n",
        "torch.__version__"
      ]
    },
    {
      "cell_type": "code",
      "execution_count": null,
      "metadata": {
        "id": "Iab9Il3Edabm"
      },
      "outputs": [],
      "source": [
        "# Here we define our custom model class\n",
        "from ednaml.models import ModelAbstract\n",
        "from torch import nn\n",
        "import torch.nn.functional as F\n",
        "\n",
        "class CIFARModel(ModelAbstract):\n",
        "  def model_attributes_setup(self, **kwargs):\n",
        "    pass\n",
        "  def model_setup(self, **kwargs):\n",
        "    pass\n",
        "  def forward_impl(self, x):\n",
        "    pass"
      ]
    },
    {
      "cell_type": "markdown",
      "metadata": {
        "id": "AAUQXoiydabm"
      },
      "source": [
        "We will change the built-in keys with the `config_inject` argument for EdnaML.\n",
        "\n",
        "We will change the custom keys afterwards."
      ]
    },
    {
      "cell_type": "code",
      "execution_count": null,
      "metadata": {
        "id": "4QDGZ5mVdabm"
      },
      "outputs": [],
      "source": [
        "cfg = \"./EdnaML/usage-docs/sample-configs/0-basics/cnn/cifar.yml\"\n",
        "eml = EdnaML(config=cfg, config_inject = [\n",
        "    (\"SAVE.MODEL_VERSION\", 2),            # We switch to version 2 for this experiment\n",
        "    (\"TRANSFORMATION.BATCH_SIZE\", 32),    # CHANGE IF YOU WANT\n",
        "    (\"LOGGING.INPUT_SIZE\", [32,3,32,32]), # CHANGE IF YOU WANT\n",
        "])\n",
        "\n",
        "\n",
        "eml.cfg.MODEL.MODEL_KWARGS = {}       # We delete the old MODEL_KWARGS, because our new model needs no arguments\n",
        "\n",
        "eml.addModelClass(CIFARModel)\n",
        "eml.apply()"
      ]
    },
    {
      "cell_type": "code",
      "execution_count": null,
      "metadata": {
        "id": "FyOemsWgdabn"
      },
      "outputs": [],
      "source": [
        "eml.train()"
      ]
    },
    {
      "cell_type": "code",
      "execution_count": null,
      "metadata": {
        "id": "nwLMNyj_dbAY"
      },
      "outputs": [],
      "source": [
        "eml.eval()"
      ]
    }
  ],
  "metadata": {
    "accelerator": "GPU",
    "colab": {
      "collapsed_sections": [
        "BZOO_ELa0PRM",
        "JY04vJjxCGaD",
        "QzffsEaj1P2e",
        "MBJsh5aTBzM6",
        "ET2xAQ2Lb9Cs"
      ],
      "provenance": []
    },
    "gpuClass": "standard",
    "kernelspec": {
      "display_name": "ednaml",
      "language": "python",
      "name": "python3"
    },
    "language_info": {
      "name": "python",
      "version": "3.9.11 (main, Mar 30 2022, 02:45:55) [MSC v.1916 64 bit (AMD64)]"
    },
    "vscode": {
      "interpreter": {
        "hash": "19686624b004a6cf552f6ad0efbc4b51ca83ef7ea52cc5f8653ac17021c6f95e"
      }
    },
    "widgets": {
      "application/vnd.jupyter.widget-state+json": {
        "0535b0fd934b4c31ad2a2f1dfd352c5c": {
          "model_module": "@jupyter-widgets/base",
          "model_module_version": "1.2.0",
          "model_name": "LayoutModel",
          "state": {
            "_model_module": "@jupyter-widgets/base",
            "_model_module_version": "1.2.0",
            "_model_name": "LayoutModel",
            "_view_count": null,
            "_view_module": "@jupyter-widgets/base",
            "_view_module_version": "1.2.0",
            "_view_name": "LayoutView",
            "align_content": null,
            "align_items": null,
            "align_self": null,
            "border": null,
            "bottom": null,
            "display": null,
            "flex": null,
            "flex_flow": null,
            "grid_area": null,
            "grid_auto_columns": null,
            "grid_auto_flow": null,
            "grid_auto_rows": null,
            "grid_column": null,
            "grid_gap": null,
            "grid_row": null,
            "grid_template_areas": null,
            "grid_template_columns": null,
            "grid_template_rows": null,
            "height": null,
            "justify_content": null,
            "justify_items": null,
            "left": null,
            "margin": null,
            "max_height": null,
            "max_width": null,
            "min_height": null,
            "min_width": null,
            "object_fit": null,
            "object_position": null,
            "order": null,
            "overflow": null,
            "overflow_x": null,
            "overflow_y": null,
            "padding": null,
            "right": null,
            "top": null,
            "visibility": null,
            "width": null
          }
        },
        "0a86f56c6cd64f728556b76ef3d7261e": {
          "model_module": "@jupyter-widgets/controls",
          "model_module_version": "1.5.0",
          "model_name": "HTMLModel",
          "state": {
            "_dom_classes": [],
            "_model_module": "@jupyter-widgets/controls",
            "_model_module_version": "1.5.0",
            "_model_name": "HTMLModel",
            "_view_count": null,
            "_view_module": "@jupyter-widgets/controls",
            "_view_module_version": "1.5.0",
            "_view_name": "HTMLView",
            "description": "",
            "description_tooltip": null,
            "layout": "IPY_MODEL_c1570d3dada14353986b551d03e66677",
            "placeholder": "​",
            "style": "IPY_MODEL_b2135d0cafaf4a69896aa9bcac3c4dd1",
            "value": " 9912422/9912422 [00:00&lt;00:00, 33373422.85it/s]"
          }
        },
        "0bc24aae1b0842809eaea3f84e6fdaf0": {
          "model_module": "@jupyter-widgets/controls",
          "model_module_version": "1.5.0",
          "model_name": "HTMLModel",
          "state": {
            "_dom_classes": [],
            "_model_module": "@jupyter-widgets/controls",
            "_model_module_version": "1.5.0",
            "_model_name": "HTMLModel",
            "_view_count": null,
            "_view_module": "@jupyter-widgets/controls",
            "_view_module_version": "1.5.0",
            "_view_name": "HTMLView",
            "description": "",
            "description_tooltip": null,
            "layout": "IPY_MODEL_c6ad62c65a3b4aecad746478ac8a9399",
            "placeholder": "​",
            "style": "IPY_MODEL_399f9e9d01b74b5a88441292d13ec2df",
            "value": "100%"
          }
        },
        "10b8d3f450c4442bbbd0cac3c7770f61": {
          "model_module": "@jupyter-widgets/controls",
          "model_module_version": "1.5.0",
          "model_name": "DescriptionStyleModel",
          "state": {
            "_model_module": "@jupyter-widgets/controls",
            "_model_module_version": "1.5.0",
            "_model_name": "DescriptionStyleModel",
            "_view_count": null,
            "_view_module": "@jupyter-widgets/base",
            "_view_module_version": "1.2.0",
            "_view_name": "StyleView",
            "description_width": ""
          }
        },
        "11f02fa3f80d4f0ba88a833b2371ab0a": {
          "model_module": "@jupyter-widgets/controls",
          "model_module_version": "1.5.0",
          "model_name": "HBoxModel",
          "state": {
            "_dom_classes": [],
            "_model_module": "@jupyter-widgets/controls",
            "_model_module_version": "1.5.0",
            "_model_name": "HBoxModel",
            "_view_count": null,
            "_view_module": "@jupyter-widgets/controls",
            "_view_module_version": "1.5.0",
            "_view_name": "HBoxView",
            "box_style": "",
            "children": [
              "IPY_MODEL_50a83fd9b3f841a48fcda382f2ff2b65",
              "IPY_MODEL_9b1ee44dce79488aa4333ef9f206adb6",
              "IPY_MODEL_a7c1975269c442178263c213a3da7e92"
            ],
            "layout": "IPY_MODEL_14468f39cf6d400ab7ae0be8216fcbf3"
          }
        },
        "14468f39cf6d400ab7ae0be8216fcbf3": {
          "model_module": "@jupyter-widgets/base",
          "model_module_version": "1.2.0",
          "model_name": "LayoutModel",
          "state": {
            "_model_module": "@jupyter-widgets/base",
            "_model_module_version": "1.2.0",
            "_model_name": "LayoutModel",
            "_view_count": null,
            "_view_module": "@jupyter-widgets/base",
            "_view_module_version": "1.2.0",
            "_view_name": "LayoutView",
            "align_content": null,
            "align_items": null,
            "align_self": null,
            "border": null,
            "bottom": null,
            "display": null,
            "flex": null,
            "flex_flow": null,
            "grid_area": null,
            "grid_auto_columns": null,
            "grid_auto_flow": null,
            "grid_auto_rows": null,
            "grid_column": null,
            "grid_gap": null,
            "grid_row": null,
            "grid_template_areas": null,
            "grid_template_columns": null,
            "grid_template_rows": null,
            "height": null,
            "justify_content": null,
            "justify_items": null,
            "left": null,
            "margin": null,
            "max_height": null,
            "max_width": null,
            "min_height": null,
            "min_width": null,
            "object_fit": null,
            "object_position": null,
            "order": null,
            "overflow": null,
            "overflow_x": null,
            "overflow_y": null,
            "padding": null,
            "right": null,
            "top": null,
            "visibility": null,
            "width": null
          }
        },
        "34981b15b95d44d9be5b21fda1b69e23": {
          "model_module": "@jupyter-widgets/controls",
          "model_module_version": "1.5.0",
          "model_name": "HBoxModel",
          "state": {
            "_dom_classes": [],
            "_model_module": "@jupyter-widgets/controls",
            "_model_module_version": "1.5.0",
            "_model_name": "HBoxModel",
            "_view_count": null,
            "_view_module": "@jupyter-widgets/controls",
            "_view_module_version": "1.5.0",
            "_view_name": "HBoxView",
            "box_style": "",
            "children": [
              "IPY_MODEL_0bc24aae1b0842809eaea3f84e6fdaf0",
              "IPY_MODEL_4fa4be9f489c47629aa09e475f437d8d",
              "IPY_MODEL_7a9528eb68f34932b6ca1fe417d417d9"
            ],
            "layout": "IPY_MODEL_0535b0fd934b4c31ad2a2f1dfd352c5c"
          }
        },
        "399f9e9d01b74b5a88441292d13ec2df": {
          "model_module": "@jupyter-widgets/controls",
          "model_module_version": "1.5.0",
          "model_name": "DescriptionStyleModel",
          "state": {
            "_model_module": "@jupyter-widgets/controls",
            "_model_module_version": "1.5.0",
            "_model_name": "DescriptionStyleModel",
            "_view_count": null,
            "_view_module": "@jupyter-widgets/base",
            "_view_module_version": "1.2.0",
            "_view_name": "StyleView",
            "description_width": ""
          }
        },
        "42e900c851f94c5b8f0740dfb1112d93": {
          "model_module": "@jupyter-widgets/controls",
          "model_module_version": "1.5.0",
          "model_name": "HTMLModel",
          "state": {
            "_dom_classes": [],
            "_model_module": "@jupyter-widgets/controls",
            "_model_module_version": "1.5.0",
            "_model_name": "HTMLModel",
            "_view_count": null,
            "_view_module": "@jupyter-widgets/controls",
            "_view_module_version": "1.5.0",
            "_view_name": "HTMLView",
            "description": "",
            "description_tooltip": null,
            "layout": "IPY_MODEL_e048ade0d493455da6a506cef6b02ca2",
            "placeholder": "​",
            "style": "IPY_MODEL_a9979407b2e2486c96e17a1489858b0b",
            "value": " 1648877/1648877 [00:00&lt;00:00, 22769191.30it/s]"
          }
        },
        "4cb5d650ef4a40a7aafb0a99b6fbdb59": {
          "model_module": "@jupyter-widgets/base",
          "model_module_version": "1.2.0",
          "model_name": "LayoutModel",
          "state": {
            "_model_module": "@jupyter-widgets/base",
            "_model_module_version": "1.2.0",
            "_model_name": "LayoutModel",
            "_view_count": null,
            "_view_module": "@jupyter-widgets/base",
            "_view_module_version": "1.2.0",
            "_view_name": "LayoutView",
            "align_content": null,
            "align_items": null,
            "align_self": null,
            "border": null,
            "bottom": null,
            "display": null,
            "flex": null,
            "flex_flow": null,
            "grid_area": null,
            "grid_auto_columns": null,
            "grid_auto_flow": null,
            "grid_auto_rows": null,
            "grid_column": null,
            "grid_gap": null,
            "grid_row": null,
            "grid_template_areas": null,
            "grid_template_columns": null,
            "grid_template_rows": null,
            "height": null,
            "justify_content": null,
            "justify_items": null,
            "left": null,
            "margin": null,
            "max_height": null,
            "max_width": null,
            "min_height": null,
            "min_width": null,
            "object_fit": null,
            "object_position": null,
            "order": null,
            "overflow": null,
            "overflow_x": null,
            "overflow_y": null,
            "padding": null,
            "right": null,
            "top": null,
            "visibility": null,
            "width": null
          }
        },
        "4fa4be9f489c47629aa09e475f437d8d": {
          "model_module": "@jupyter-widgets/controls",
          "model_module_version": "1.5.0",
          "model_name": "FloatProgressModel",
          "state": {
            "_dom_classes": [],
            "_model_module": "@jupyter-widgets/controls",
            "_model_module_version": "1.5.0",
            "_model_name": "FloatProgressModel",
            "_view_count": null,
            "_view_module": "@jupyter-widgets/controls",
            "_view_module_version": "1.5.0",
            "_view_name": "ProgressView",
            "bar_style": "success",
            "description": "",
            "description_tooltip": null,
            "layout": "IPY_MODEL_7d92a4c9bcc24e3890e06d9c0cf6b5b3",
            "max": 4542,
            "min": 0,
            "orientation": "horizontal",
            "style": "IPY_MODEL_a4826f01eb1e4a29a4b1380b38fcfc62",
            "value": 4542
          }
        },
        "50a83fd9b3f841a48fcda382f2ff2b65": {
          "model_module": "@jupyter-widgets/controls",
          "model_module_version": "1.5.0",
          "model_name": "HTMLModel",
          "state": {
            "_dom_classes": [],
            "_model_module": "@jupyter-widgets/controls",
            "_model_module_version": "1.5.0",
            "_model_name": "HTMLModel",
            "_view_count": null,
            "_view_module": "@jupyter-widgets/controls",
            "_view_module_version": "1.5.0",
            "_view_name": "HTMLView",
            "description": "",
            "description_tooltip": null,
            "layout": "IPY_MODEL_7ea8438ba76f4550af264f4db615b3ed",
            "placeholder": "​",
            "style": "IPY_MODEL_bd960a4f6b40435a9455c8ff0b91bae7",
            "value": "100%"
          }
        },
        "514d14087f37489bbf276e40ee99308f": {
          "model_module": "@jupyter-widgets/controls",
          "model_module_version": "1.5.0",
          "model_name": "ProgressStyleModel",
          "state": {
            "_model_module": "@jupyter-widgets/controls",
            "_model_module_version": "1.5.0",
            "_model_name": "ProgressStyleModel",
            "_view_count": null,
            "_view_module": "@jupyter-widgets/base",
            "_view_module_version": "1.2.0",
            "_view_name": "StyleView",
            "bar_color": null,
            "description_width": ""
          }
        },
        "58aa08f5ccf94667948a846b9f86b340": {
          "model_module": "@jupyter-widgets/controls",
          "model_module_version": "1.5.0",
          "model_name": "HTMLModel",
          "state": {
            "_dom_classes": [],
            "_model_module": "@jupyter-widgets/controls",
            "_model_module_version": "1.5.0",
            "_model_name": "HTMLModel",
            "_view_count": null,
            "_view_module": "@jupyter-widgets/controls",
            "_view_module_version": "1.5.0",
            "_view_name": "HTMLView",
            "description": "",
            "description_tooltip": null,
            "layout": "IPY_MODEL_d5c9ae3d4b734f2ebcc5a18f829b7b6b",
            "placeholder": "​",
            "style": "IPY_MODEL_10b8d3f450c4442bbbd0cac3c7770f61",
            "value": "100%"
          }
        },
        "6c04cbd6328e4d1da63567d991ab489f": {
          "model_module": "@jupyter-widgets/base",
          "model_module_version": "1.2.0",
          "model_name": "LayoutModel",
          "state": {
            "_model_module": "@jupyter-widgets/base",
            "_model_module_version": "1.2.0",
            "_model_name": "LayoutModel",
            "_view_count": null,
            "_view_module": "@jupyter-widgets/base",
            "_view_module_version": "1.2.0",
            "_view_name": "LayoutView",
            "align_content": null,
            "align_items": null,
            "align_self": null,
            "border": null,
            "bottom": null,
            "display": null,
            "flex": null,
            "flex_flow": null,
            "grid_area": null,
            "grid_auto_columns": null,
            "grid_auto_flow": null,
            "grid_auto_rows": null,
            "grid_column": null,
            "grid_gap": null,
            "grid_row": null,
            "grid_template_areas": null,
            "grid_template_columns": null,
            "grid_template_rows": null,
            "height": null,
            "justify_content": null,
            "justify_items": null,
            "left": null,
            "margin": null,
            "max_height": null,
            "max_width": null,
            "min_height": null,
            "min_width": null,
            "object_fit": null,
            "object_position": null,
            "order": null,
            "overflow": null,
            "overflow_x": null,
            "overflow_y": null,
            "padding": null,
            "right": null,
            "top": null,
            "visibility": null,
            "width": null
          }
        },
        "735c670aabbc409b9ff92c0f8a7fc01e": {
          "model_module": "@jupyter-widgets/controls",
          "model_module_version": "1.5.0",
          "model_name": "DescriptionStyleModel",
          "state": {
            "_model_module": "@jupyter-widgets/controls",
            "_model_module_version": "1.5.0",
            "_model_name": "DescriptionStyleModel",
            "_view_count": null,
            "_view_module": "@jupyter-widgets/base",
            "_view_module_version": "1.2.0",
            "_view_name": "StyleView",
            "description_width": ""
          }
        },
        "7887a15a0bda48ed93729a5d94d0020d": {
          "model_module": "@jupyter-widgets/controls",
          "model_module_version": "1.5.0",
          "model_name": "HTMLModel",
          "state": {
            "_dom_classes": [],
            "_model_module": "@jupyter-widgets/controls",
            "_model_module_version": "1.5.0",
            "_model_name": "HTMLModel",
            "_view_count": null,
            "_view_module": "@jupyter-widgets/controls",
            "_view_module_version": "1.5.0",
            "_view_name": "HTMLView",
            "description": "",
            "description_tooltip": null,
            "layout": "IPY_MODEL_ab690a67d28947e08ef2350ccb70a40a",
            "placeholder": "​",
            "style": "IPY_MODEL_735c670aabbc409b9ff92c0f8a7fc01e",
            "value": "100%"
          }
        },
        "7a9528eb68f34932b6ca1fe417d417d9": {
          "model_module": "@jupyter-widgets/controls",
          "model_module_version": "1.5.0",
          "model_name": "HTMLModel",
          "state": {
            "_dom_classes": [],
            "_model_module": "@jupyter-widgets/controls",
            "_model_module_version": "1.5.0",
            "_model_name": "HTMLModel",
            "_view_count": null,
            "_view_module": "@jupyter-widgets/controls",
            "_view_module_version": "1.5.0",
            "_view_name": "HTMLView",
            "description": "",
            "description_tooltip": null,
            "layout": "IPY_MODEL_6c04cbd6328e4d1da63567d991ab489f",
            "placeholder": "​",
            "style": "IPY_MODEL_f15c9b30694c41bb987b5d8a568babb3",
            "value": " 4542/4542 [00:00&lt;00:00, 81551.92it/s]"
          }
        },
        "7d92a4c9bcc24e3890e06d9c0cf6b5b3": {
          "model_module": "@jupyter-widgets/base",
          "model_module_version": "1.2.0",
          "model_name": "LayoutModel",
          "state": {
            "_model_module": "@jupyter-widgets/base",
            "_model_module_version": "1.2.0",
            "_model_name": "LayoutModel",
            "_view_count": null,
            "_view_module": "@jupyter-widgets/base",
            "_view_module_version": "1.2.0",
            "_view_name": "LayoutView",
            "align_content": null,
            "align_items": null,
            "align_self": null,
            "border": null,
            "bottom": null,
            "display": null,
            "flex": null,
            "flex_flow": null,
            "grid_area": null,
            "grid_auto_columns": null,
            "grid_auto_flow": null,
            "grid_auto_rows": null,
            "grid_column": null,
            "grid_gap": null,
            "grid_row": null,
            "grid_template_areas": null,
            "grid_template_columns": null,
            "grid_template_rows": null,
            "height": null,
            "justify_content": null,
            "justify_items": null,
            "left": null,
            "margin": null,
            "max_height": null,
            "max_width": null,
            "min_height": null,
            "min_width": null,
            "object_fit": null,
            "object_position": null,
            "order": null,
            "overflow": null,
            "overflow_x": null,
            "overflow_y": null,
            "padding": null,
            "right": null,
            "top": null,
            "visibility": null,
            "width": null
          }
        },
        "7ea8438ba76f4550af264f4db615b3ed": {
          "model_module": "@jupyter-widgets/base",
          "model_module_version": "1.2.0",
          "model_name": "LayoutModel",
          "state": {
            "_model_module": "@jupyter-widgets/base",
            "_model_module_version": "1.2.0",
            "_model_name": "LayoutModel",
            "_view_count": null,
            "_view_module": "@jupyter-widgets/base",
            "_view_module_version": "1.2.0",
            "_view_name": "LayoutView",
            "align_content": null,
            "align_items": null,
            "align_self": null,
            "border": null,
            "bottom": null,
            "display": null,
            "flex": null,
            "flex_flow": null,
            "grid_area": null,
            "grid_auto_columns": null,
            "grid_auto_flow": null,
            "grid_auto_rows": null,
            "grid_column": null,
            "grid_gap": null,
            "grid_row": null,
            "grid_template_areas": null,
            "grid_template_columns": null,
            "grid_template_rows": null,
            "height": null,
            "justify_content": null,
            "justify_items": null,
            "left": null,
            "margin": null,
            "max_height": null,
            "max_width": null,
            "min_height": null,
            "min_width": null,
            "object_fit": null,
            "object_position": null,
            "order": null,
            "overflow": null,
            "overflow_x": null,
            "overflow_y": null,
            "padding": null,
            "right": null,
            "top": null,
            "visibility": null,
            "width": null
          }
        },
        "84ab1ffa76e2428db1f176049508a89f": {
          "model_module": "@jupyter-widgets/base",
          "model_module_version": "1.2.0",
          "model_name": "LayoutModel",
          "state": {
            "_model_module": "@jupyter-widgets/base",
            "_model_module_version": "1.2.0",
            "_model_name": "LayoutModel",
            "_view_count": null,
            "_view_module": "@jupyter-widgets/base",
            "_view_module_version": "1.2.0",
            "_view_name": "LayoutView",
            "align_content": null,
            "align_items": null,
            "align_self": null,
            "border": null,
            "bottom": null,
            "display": null,
            "flex": null,
            "flex_flow": null,
            "grid_area": null,
            "grid_auto_columns": null,
            "grid_auto_flow": null,
            "grid_auto_rows": null,
            "grid_column": null,
            "grid_gap": null,
            "grid_row": null,
            "grid_template_areas": null,
            "grid_template_columns": null,
            "grid_template_rows": null,
            "height": null,
            "justify_content": null,
            "justify_items": null,
            "left": null,
            "margin": null,
            "max_height": null,
            "max_width": null,
            "min_height": null,
            "min_width": null,
            "object_fit": null,
            "object_position": null,
            "order": null,
            "overflow": null,
            "overflow_x": null,
            "overflow_y": null,
            "padding": null,
            "right": null,
            "top": null,
            "visibility": null,
            "width": null
          }
        },
        "84c4b1ea33424e02898a89b04bdd3227": {
          "model_module": "@jupyter-widgets/controls",
          "model_module_version": "1.5.0",
          "model_name": "HBoxModel",
          "state": {
            "_dom_classes": [],
            "_model_module": "@jupyter-widgets/controls",
            "_model_module_version": "1.5.0",
            "_model_name": "HBoxModel",
            "_view_count": null,
            "_view_module": "@jupyter-widgets/controls",
            "_view_module_version": "1.5.0",
            "_view_name": "HBoxView",
            "box_style": "",
            "children": [
              "IPY_MODEL_58aa08f5ccf94667948a846b9f86b340",
              "IPY_MODEL_d614a20401a4420b9ad5b183ca2dd84d",
              "IPY_MODEL_0a86f56c6cd64f728556b76ef3d7261e"
            ],
            "layout": "IPY_MODEL_9ed0dfafe17f45fb989e3075f9c97513"
          }
        },
        "9b1ee44dce79488aa4333ef9f206adb6": {
          "model_module": "@jupyter-widgets/controls",
          "model_module_version": "1.5.0",
          "model_name": "FloatProgressModel",
          "state": {
            "_dom_classes": [],
            "_model_module": "@jupyter-widgets/controls",
            "_model_module_version": "1.5.0",
            "_model_name": "FloatProgressModel",
            "_view_count": null,
            "_view_module": "@jupyter-widgets/controls",
            "_view_module_version": "1.5.0",
            "_view_name": "ProgressView",
            "bar_style": "success",
            "description": "",
            "description_tooltip": null,
            "layout": "IPY_MODEL_bbe0ff287aad4a839e658d3611875303",
            "max": 28881,
            "min": 0,
            "orientation": "horizontal",
            "style": "IPY_MODEL_ff33829c8af14fb59ace8ddf8186032d",
            "value": 28881
          }
        },
        "9ed0dfafe17f45fb989e3075f9c97513": {
          "model_module": "@jupyter-widgets/base",
          "model_module_version": "1.2.0",
          "model_name": "LayoutModel",
          "state": {
            "_model_module": "@jupyter-widgets/base",
            "_model_module_version": "1.2.0",
            "_model_name": "LayoutModel",
            "_view_count": null,
            "_view_module": "@jupyter-widgets/base",
            "_view_module_version": "1.2.0",
            "_view_name": "LayoutView",
            "align_content": null,
            "align_items": null,
            "align_self": null,
            "border": null,
            "bottom": null,
            "display": null,
            "flex": null,
            "flex_flow": null,
            "grid_area": null,
            "grid_auto_columns": null,
            "grid_auto_flow": null,
            "grid_auto_rows": null,
            "grid_column": null,
            "grid_gap": null,
            "grid_row": null,
            "grid_template_areas": null,
            "grid_template_columns": null,
            "grid_template_rows": null,
            "height": null,
            "justify_content": null,
            "justify_items": null,
            "left": null,
            "margin": null,
            "max_height": null,
            "max_width": null,
            "min_height": null,
            "min_width": null,
            "object_fit": null,
            "object_position": null,
            "order": null,
            "overflow": null,
            "overflow_x": null,
            "overflow_y": null,
            "padding": null,
            "right": null,
            "top": null,
            "visibility": null,
            "width": null
          }
        },
        "a4826f01eb1e4a29a4b1380b38fcfc62": {
          "model_module": "@jupyter-widgets/controls",
          "model_module_version": "1.5.0",
          "model_name": "ProgressStyleModel",
          "state": {
            "_model_module": "@jupyter-widgets/controls",
            "_model_module_version": "1.5.0",
            "_model_name": "ProgressStyleModel",
            "_view_count": null,
            "_view_module": "@jupyter-widgets/base",
            "_view_module_version": "1.2.0",
            "_view_name": "StyleView",
            "bar_color": null,
            "description_width": ""
          }
        },
        "a7c1975269c442178263c213a3da7e92": {
          "model_module": "@jupyter-widgets/controls",
          "model_module_version": "1.5.0",
          "model_name": "HTMLModel",
          "state": {
            "_dom_classes": [],
            "_model_module": "@jupyter-widgets/controls",
            "_model_module_version": "1.5.0",
            "_model_name": "HTMLModel",
            "_view_count": null,
            "_view_module": "@jupyter-widgets/controls",
            "_view_module_version": "1.5.0",
            "_view_name": "HTMLView",
            "description": "",
            "description_tooltip": null,
            "layout": "IPY_MODEL_84ab1ffa76e2428db1f176049508a89f",
            "placeholder": "​",
            "style": "IPY_MODEL_e1b85698fdbb4cd5bc38aa9cffe96236",
            "value": " 28881/28881 [00:00&lt;00:00, 666521.92it/s]"
          }
        },
        "a9979407b2e2486c96e17a1489858b0b": {
          "model_module": "@jupyter-widgets/controls",
          "model_module_version": "1.5.0",
          "model_name": "DescriptionStyleModel",
          "state": {
            "_model_module": "@jupyter-widgets/controls",
            "_model_module_version": "1.5.0",
            "_model_name": "DescriptionStyleModel",
            "_view_count": null,
            "_view_module": "@jupyter-widgets/base",
            "_view_module_version": "1.2.0",
            "_view_name": "StyleView",
            "description_width": ""
          }
        },
        "ab690a67d28947e08ef2350ccb70a40a": {
          "model_module": "@jupyter-widgets/base",
          "model_module_version": "1.2.0",
          "model_name": "LayoutModel",
          "state": {
            "_model_module": "@jupyter-widgets/base",
            "_model_module_version": "1.2.0",
            "_model_name": "LayoutModel",
            "_view_count": null,
            "_view_module": "@jupyter-widgets/base",
            "_view_module_version": "1.2.0",
            "_view_name": "LayoutView",
            "align_content": null,
            "align_items": null,
            "align_self": null,
            "border": null,
            "bottom": null,
            "display": null,
            "flex": null,
            "flex_flow": null,
            "grid_area": null,
            "grid_auto_columns": null,
            "grid_auto_flow": null,
            "grid_auto_rows": null,
            "grid_column": null,
            "grid_gap": null,
            "grid_row": null,
            "grid_template_areas": null,
            "grid_template_columns": null,
            "grid_template_rows": null,
            "height": null,
            "justify_content": null,
            "justify_items": null,
            "left": null,
            "margin": null,
            "max_height": null,
            "max_width": null,
            "min_height": null,
            "min_width": null,
            "object_fit": null,
            "object_position": null,
            "order": null,
            "overflow": null,
            "overflow_x": null,
            "overflow_y": null,
            "padding": null,
            "right": null,
            "top": null,
            "visibility": null,
            "width": null
          }
        },
        "b2135d0cafaf4a69896aa9bcac3c4dd1": {
          "model_module": "@jupyter-widgets/controls",
          "model_module_version": "1.5.0",
          "model_name": "DescriptionStyleModel",
          "state": {
            "_model_module": "@jupyter-widgets/controls",
            "_model_module_version": "1.5.0",
            "_model_name": "DescriptionStyleModel",
            "_view_count": null,
            "_view_module": "@jupyter-widgets/base",
            "_view_module_version": "1.2.0",
            "_view_name": "StyleView",
            "description_width": ""
          }
        },
        "bbe0ff287aad4a839e658d3611875303": {
          "model_module": "@jupyter-widgets/base",
          "model_module_version": "1.2.0",
          "model_name": "LayoutModel",
          "state": {
            "_model_module": "@jupyter-widgets/base",
            "_model_module_version": "1.2.0",
            "_model_name": "LayoutModel",
            "_view_count": null,
            "_view_module": "@jupyter-widgets/base",
            "_view_module_version": "1.2.0",
            "_view_name": "LayoutView",
            "align_content": null,
            "align_items": null,
            "align_self": null,
            "border": null,
            "bottom": null,
            "display": null,
            "flex": null,
            "flex_flow": null,
            "grid_area": null,
            "grid_auto_columns": null,
            "grid_auto_flow": null,
            "grid_auto_rows": null,
            "grid_column": null,
            "grid_gap": null,
            "grid_row": null,
            "grid_template_areas": null,
            "grid_template_columns": null,
            "grid_template_rows": null,
            "height": null,
            "justify_content": null,
            "justify_items": null,
            "left": null,
            "margin": null,
            "max_height": null,
            "max_width": null,
            "min_height": null,
            "min_width": null,
            "object_fit": null,
            "object_position": null,
            "order": null,
            "overflow": null,
            "overflow_x": null,
            "overflow_y": null,
            "padding": null,
            "right": null,
            "top": null,
            "visibility": null,
            "width": null
          }
        },
        "bd960a4f6b40435a9455c8ff0b91bae7": {
          "model_module": "@jupyter-widgets/controls",
          "model_module_version": "1.5.0",
          "model_name": "DescriptionStyleModel",
          "state": {
            "_model_module": "@jupyter-widgets/controls",
            "_model_module_version": "1.5.0",
            "_model_name": "DescriptionStyleModel",
            "_view_count": null,
            "_view_module": "@jupyter-widgets/base",
            "_view_module_version": "1.2.0",
            "_view_name": "StyleView",
            "description_width": ""
          }
        },
        "c1570d3dada14353986b551d03e66677": {
          "model_module": "@jupyter-widgets/base",
          "model_module_version": "1.2.0",
          "model_name": "LayoutModel",
          "state": {
            "_model_module": "@jupyter-widgets/base",
            "_model_module_version": "1.2.0",
            "_model_name": "LayoutModel",
            "_view_count": null,
            "_view_module": "@jupyter-widgets/base",
            "_view_module_version": "1.2.0",
            "_view_name": "LayoutView",
            "align_content": null,
            "align_items": null,
            "align_self": null,
            "border": null,
            "bottom": null,
            "display": null,
            "flex": null,
            "flex_flow": null,
            "grid_area": null,
            "grid_auto_columns": null,
            "grid_auto_flow": null,
            "grid_auto_rows": null,
            "grid_column": null,
            "grid_gap": null,
            "grid_row": null,
            "grid_template_areas": null,
            "grid_template_columns": null,
            "grid_template_rows": null,
            "height": null,
            "justify_content": null,
            "justify_items": null,
            "left": null,
            "margin": null,
            "max_height": null,
            "max_width": null,
            "min_height": null,
            "min_width": null,
            "object_fit": null,
            "object_position": null,
            "order": null,
            "overflow": null,
            "overflow_x": null,
            "overflow_y": null,
            "padding": null,
            "right": null,
            "top": null,
            "visibility": null,
            "width": null
          }
        },
        "c6ad62c65a3b4aecad746478ac8a9399": {
          "model_module": "@jupyter-widgets/base",
          "model_module_version": "1.2.0",
          "model_name": "LayoutModel",
          "state": {
            "_model_module": "@jupyter-widgets/base",
            "_model_module_version": "1.2.0",
            "_model_name": "LayoutModel",
            "_view_count": null,
            "_view_module": "@jupyter-widgets/base",
            "_view_module_version": "1.2.0",
            "_view_name": "LayoutView",
            "align_content": null,
            "align_items": null,
            "align_self": null,
            "border": null,
            "bottom": null,
            "display": null,
            "flex": null,
            "flex_flow": null,
            "grid_area": null,
            "grid_auto_columns": null,
            "grid_auto_flow": null,
            "grid_auto_rows": null,
            "grid_column": null,
            "grid_gap": null,
            "grid_row": null,
            "grid_template_areas": null,
            "grid_template_columns": null,
            "grid_template_rows": null,
            "height": null,
            "justify_content": null,
            "justify_items": null,
            "left": null,
            "margin": null,
            "max_height": null,
            "max_width": null,
            "min_height": null,
            "min_width": null,
            "object_fit": null,
            "object_position": null,
            "order": null,
            "overflow": null,
            "overflow_x": null,
            "overflow_y": null,
            "padding": null,
            "right": null,
            "top": null,
            "visibility": null,
            "width": null
          }
        },
        "cce73a5d17b1493ca5912f3b48e6bdfe": {
          "model_module": "@jupyter-widgets/controls",
          "model_module_version": "1.5.0",
          "model_name": "FloatProgressModel",
          "state": {
            "_dom_classes": [],
            "_model_module": "@jupyter-widgets/controls",
            "_model_module_version": "1.5.0",
            "_model_name": "FloatProgressModel",
            "_view_count": null,
            "_view_module": "@jupyter-widgets/controls",
            "_view_module_version": "1.5.0",
            "_view_name": "ProgressView",
            "bar_style": "success",
            "description": "",
            "description_tooltip": null,
            "layout": "IPY_MODEL_4cb5d650ef4a40a7aafb0a99b6fbdb59",
            "max": 1648877,
            "min": 0,
            "orientation": "horizontal",
            "style": "IPY_MODEL_514d14087f37489bbf276e40ee99308f",
            "value": 1648877
          }
        },
        "cf98207ffe0d46db9b9855646c2da12f": {
          "model_module": "@jupyter-widgets/base",
          "model_module_version": "1.2.0",
          "model_name": "LayoutModel",
          "state": {
            "_model_module": "@jupyter-widgets/base",
            "_model_module_version": "1.2.0",
            "_model_name": "LayoutModel",
            "_view_count": null,
            "_view_module": "@jupyter-widgets/base",
            "_view_module_version": "1.2.0",
            "_view_name": "LayoutView",
            "align_content": null,
            "align_items": null,
            "align_self": null,
            "border": null,
            "bottom": null,
            "display": null,
            "flex": null,
            "flex_flow": null,
            "grid_area": null,
            "grid_auto_columns": null,
            "grid_auto_flow": null,
            "grid_auto_rows": null,
            "grid_column": null,
            "grid_gap": null,
            "grid_row": null,
            "grid_template_areas": null,
            "grid_template_columns": null,
            "grid_template_rows": null,
            "height": null,
            "justify_content": null,
            "justify_items": null,
            "left": null,
            "margin": null,
            "max_height": null,
            "max_width": null,
            "min_height": null,
            "min_width": null,
            "object_fit": null,
            "object_position": null,
            "order": null,
            "overflow": null,
            "overflow_x": null,
            "overflow_y": null,
            "padding": null,
            "right": null,
            "top": null,
            "visibility": null,
            "width": null
          }
        },
        "d5c9ae3d4b734f2ebcc5a18f829b7b6b": {
          "model_module": "@jupyter-widgets/base",
          "model_module_version": "1.2.0",
          "model_name": "LayoutModel",
          "state": {
            "_model_module": "@jupyter-widgets/base",
            "_model_module_version": "1.2.0",
            "_model_name": "LayoutModel",
            "_view_count": null,
            "_view_module": "@jupyter-widgets/base",
            "_view_module_version": "1.2.0",
            "_view_name": "LayoutView",
            "align_content": null,
            "align_items": null,
            "align_self": null,
            "border": null,
            "bottom": null,
            "display": null,
            "flex": null,
            "flex_flow": null,
            "grid_area": null,
            "grid_auto_columns": null,
            "grid_auto_flow": null,
            "grid_auto_rows": null,
            "grid_column": null,
            "grid_gap": null,
            "grid_row": null,
            "grid_template_areas": null,
            "grid_template_columns": null,
            "grid_template_rows": null,
            "height": null,
            "justify_content": null,
            "justify_items": null,
            "left": null,
            "margin": null,
            "max_height": null,
            "max_width": null,
            "min_height": null,
            "min_width": null,
            "object_fit": null,
            "object_position": null,
            "order": null,
            "overflow": null,
            "overflow_x": null,
            "overflow_y": null,
            "padding": null,
            "right": null,
            "top": null,
            "visibility": null,
            "width": null
          }
        },
        "d614a20401a4420b9ad5b183ca2dd84d": {
          "model_module": "@jupyter-widgets/controls",
          "model_module_version": "1.5.0",
          "model_name": "FloatProgressModel",
          "state": {
            "_dom_classes": [],
            "_model_module": "@jupyter-widgets/controls",
            "_model_module_version": "1.5.0",
            "_model_name": "FloatProgressModel",
            "_view_count": null,
            "_view_module": "@jupyter-widgets/controls",
            "_view_module_version": "1.5.0",
            "_view_name": "ProgressView",
            "bar_style": "success",
            "description": "",
            "description_tooltip": null,
            "layout": "IPY_MODEL_e61bc458bdad4d6491acd878b2a1cc23",
            "max": 9912422,
            "min": 0,
            "orientation": "horizontal",
            "style": "IPY_MODEL_d855960293e34d20a2eb7a96e041f180",
            "value": 9912422
          }
        },
        "d855960293e34d20a2eb7a96e041f180": {
          "model_module": "@jupyter-widgets/controls",
          "model_module_version": "1.5.0",
          "model_name": "ProgressStyleModel",
          "state": {
            "_model_module": "@jupyter-widgets/controls",
            "_model_module_version": "1.5.0",
            "_model_name": "ProgressStyleModel",
            "_view_count": null,
            "_view_module": "@jupyter-widgets/base",
            "_view_module_version": "1.2.0",
            "_view_name": "StyleView",
            "bar_color": null,
            "description_width": ""
          }
        },
        "e048ade0d493455da6a506cef6b02ca2": {
          "model_module": "@jupyter-widgets/base",
          "model_module_version": "1.2.0",
          "model_name": "LayoutModel",
          "state": {
            "_model_module": "@jupyter-widgets/base",
            "_model_module_version": "1.2.0",
            "_model_name": "LayoutModel",
            "_view_count": null,
            "_view_module": "@jupyter-widgets/base",
            "_view_module_version": "1.2.0",
            "_view_name": "LayoutView",
            "align_content": null,
            "align_items": null,
            "align_self": null,
            "border": null,
            "bottom": null,
            "display": null,
            "flex": null,
            "flex_flow": null,
            "grid_area": null,
            "grid_auto_columns": null,
            "grid_auto_flow": null,
            "grid_auto_rows": null,
            "grid_column": null,
            "grid_gap": null,
            "grid_row": null,
            "grid_template_areas": null,
            "grid_template_columns": null,
            "grid_template_rows": null,
            "height": null,
            "justify_content": null,
            "justify_items": null,
            "left": null,
            "margin": null,
            "max_height": null,
            "max_width": null,
            "min_height": null,
            "min_width": null,
            "object_fit": null,
            "object_position": null,
            "order": null,
            "overflow": null,
            "overflow_x": null,
            "overflow_y": null,
            "padding": null,
            "right": null,
            "top": null,
            "visibility": null,
            "width": null
          }
        },
        "e1b85698fdbb4cd5bc38aa9cffe96236": {
          "model_module": "@jupyter-widgets/controls",
          "model_module_version": "1.5.0",
          "model_name": "DescriptionStyleModel",
          "state": {
            "_model_module": "@jupyter-widgets/controls",
            "_model_module_version": "1.5.0",
            "_model_name": "DescriptionStyleModel",
            "_view_count": null,
            "_view_module": "@jupyter-widgets/base",
            "_view_module_version": "1.2.0",
            "_view_name": "StyleView",
            "description_width": ""
          }
        },
        "e61bc458bdad4d6491acd878b2a1cc23": {
          "model_module": "@jupyter-widgets/base",
          "model_module_version": "1.2.0",
          "model_name": "LayoutModel",
          "state": {
            "_model_module": "@jupyter-widgets/base",
            "_model_module_version": "1.2.0",
            "_model_name": "LayoutModel",
            "_view_count": null,
            "_view_module": "@jupyter-widgets/base",
            "_view_module_version": "1.2.0",
            "_view_name": "LayoutView",
            "align_content": null,
            "align_items": null,
            "align_self": null,
            "border": null,
            "bottom": null,
            "display": null,
            "flex": null,
            "flex_flow": null,
            "grid_area": null,
            "grid_auto_columns": null,
            "grid_auto_flow": null,
            "grid_auto_rows": null,
            "grid_column": null,
            "grid_gap": null,
            "grid_row": null,
            "grid_template_areas": null,
            "grid_template_columns": null,
            "grid_template_rows": null,
            "height": null,
            "justify_content": null,
            "justify_items": null,
            "left": null,
            "margin": null,
            "max_height": null,
            "max_width": null,
            "min_height": null,
            "min_width": null,
            "object_fit": null,
            "object_position": null,
            "order": null,
            "overflow": null,
            "overflow_x": null,
            "overflow_y": null,
            "padding": null,
            "right": null,
            "top": null,
            "visibility": null,
            "width": null
          }
        },
        "f15c9b30694c41bb987b5d8a568babb3": {
          "model_module": "@jupyter-widgets/controls",
          "model_module_version": "1.5.0",
          "model_name": "DescriptionStyleModel",
          "state": {
            "_model_module": "@jupyter-widgets/controls",
            "_model_module_version": "1.5.0",
            "_model_name": "DescriptionStyleModel",
            "_view_count": null,
            "_view_module": "@jupyter-widgets/base",
            "_view_module_version": "1.2.0",
            "_view_name": "StyleView",
            "description_width": ""
          }
        },
        "fd4adf18682e4576bcfcf782fb0b5eb4": {
          "model_module": "@jupyter-widgets/controls",
          "model_module_version": "1.5.0",
          "model_name": "HBoxModel",
          "state": {
            "_dom_classes": [],
            "_model_module": "@jupyter-widgets/controls",
            "_model_module_version": "1.5.0",
            "_model_name": "HBoxModel",
            "_view_count": null,
            "_view_module": "@jupyter-widgets/controls",
            "_view_module_version": "1.5.0",
            "_view_name": "HBoxView",
            "box_style": "",
            "children": [
              "IPY_MODEL_7887a15a0bda48ed93729a5d94d0020d",
              "IPY_MODEL_cce73a5d17b1493ca5912f3b48e6bdfe",
              "IPY_MODEL_42e900c851f94c5b8f0740dfb1112d93"
            ],
            "layout": "IPY_MODEL_cf98207ffe0d46db9b9855646c2da12f"
          }
        },
        "ff33829c8af14fb59ace8ddf8186032d": {
          "model_module": "@jupyter-widgets/controls",
          "model_module_version": "1.5.0",
          "model_name": "ProgressStyleModel",
          "state": {
            "_model_module": "@jupyter-widgets/controls",
            "_model_module_version": "1.5.0",
            "_model_name": "ProgressStyleModel",
            "_view_count": null,
            "_view_module": "@jupyter-widgets/base",
            "_view_module_version": "1.2.0",
            "_view_name": "StyleView",
            "bar_color": null,
            "description_width": ""
          }
        }
      }
    }
  },
  "nbformat": 4,
  "nbformat_minor": 0
}
