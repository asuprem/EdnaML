{
 "cells": [
  {
   "cell_type": "markdown",
   "id": "623a8acd",
   "metadata": {},
   "source": [
    "# EdnaML Debugging\n",
    "\n",
    "This is a debugging notebook to verify execution of the EdnaML `apply()` function\n",
    "\n",
    "Setup instructions:\n",
    "- TODO"
   ]
  },
  {
   "cell_type": "code",
   "execution_count": 1,
   "id": "464be63a",
   "metadata": {},
   "outputs": [],
   "source": [
    "import os.path as osp\n",
    "\n",
    "cfg=\"../usage-docs/sample-configs/datasets/config-veri.yml\"\n",
    "osp.exists(cfg)"
   ]
  },
  {
   "cell_type": "markdown",
   "id": "936e35e3",
   "metadata": {},
   "source": [
    "## `apply()`"
   ]
  },
  {
   "cell_type": "code",
   "execution_count": 3,
   "id": "5fbd1fe3",
   "metadata": {},
   "outputs": [],
   "source": [
    "# Import\n",
    "from ednaml.core import EdnaML"
   ]
  },
  {
   "cell_type": "code",
   "execution_count": 4,
   "id": "1e6f1bbc",
   "metadata": {},
   "outputs": [
    {
     "name": "stdout",
     "output_type": "stream",
     "text": [
      "Log file exists at colabel_devel-v1-res18-type\\colabel_devel-v1-res18-type-logger.log. Will attempt to append there.\n"
     ]
    }
   ],
   "source": [
    "# Set up some configurations\n",
    "eml = EdnaML(cfg, \"train\")\n",
    "eml.cfg.EXECUTION.DATAREADER.CRAWLER_ARGS[\"data_folder\"] = \"../Data/VeRi\"\n",
    "eml.cfg.TRANSFORMATION.BATCH_SIZE=64\n",
    "eml.cfg.EXECUTION.SKIPEVAL=False"
   ]
  },
  {
   "cell_type": "code",
   "execution_count": null,
   "id": "56211cc7",
   "metadata": {},
   "outputs": [
    {
     "name": "stderr",
     "output_type": "stream",
     "text": [
      "14:07:45 ****************************************\n",
      "14:07:45 \n",
      "14:07:45 \n",
      "14:07:45 Using the following configuration:\n",
      "14:07:45 EXECUTION:\n",
      "  DATAREADER:\n",
      "    CRAWLER_ARGS:\n",
      "      data_folder: ../Data/VeRi\n",
      "    DATALOADER_ARGS: {}\n",
      "    DATAREADER: VeRi\n",
      "    DATASET_ARGS:\n",
      "      annotationidx: 3\n",
      "      classificationclass: color\n",
      "      pathidx: 0\n",
      "    GENERATOR: ClassificationGenerator\n",
      "    GENERATOR_ARGS: {}\n",
      "  EPOCHS: 10\n",
      "  FP16: false\n",
      "  MODEL_SERVING: None\n",
      "  OPTIMIZER_BUILDER: ClassificationOptimizer\n",
      "  SKIPEVAL: false\n",
      "  TEST_FREQUENCY: 5\n",
      "  TRAINER: ClassificationTrainer\n",
      "LOGGING:\n",
      "  STEP_VERBOSE: 100\n",
      "LOSS:\n",
      "- KWARGS:\n",
      "  - {}\n",
      "  LABEL: color\n",
      "  LAMBDAS:\n",
      "  - 1.0\n",
      "  LOSSES:\n",
      "  - SoftmaxLogitsLoss\n",
      "  NAME: out1\n",
      "LOSS_OPTIMIZER:\n",
      "- BASE_LR: 0.001\n",
      "  LR_BIAS_FACTOR: 1.0\n",
      "  OPTIMIZER: Adam\n",
      "  OPTIMIZER_KWARGS: {}\n",
      "  OPTIMIZER_NAME: opt-1\n",
      "  WEIGHT_BIAS_FACTOR: 0.0005\n",
      "  WEIGHT_DECAY: 0.0005\n",
      "LOSS_SCHEDULER:\n",
      "- LR_KWARGS:\n",
      "    step_size: 20\n",
      "  LR_SCHEDULER: StepLR\n",
      "  SCHEDULER_NAME: opt-1\n",
      "MODEL:\n",
      "  BUILDER: classification_model_builder\n",
      "  MODEL_ARCH: ClassificationResnet\n",
      "  MODEL_BASE: resnet18\n",
      "  MODEL_KWARGS: {}\n",
      "  MODEL_NORMALIZATION: bn\n",
      "  PARAMETER_GROUPS:\n",
      "  - opt-1\n",
      "OPTIMIZER:\n",
      "- BASE_LR: 1.0e-05\n",
      "  LR_BIAS_FACTOR: 1.0\n",
      "  OPTIMIZER: Adam\n",
      "  OPTIMIZER_KWARGS: {}\n",
      "  OPTIMIZER_NAME: opt-1\n",
      "  WEIGHT_BIAS_FACTOR: 0.0005\n",
      "  WEIGHT_DECAY: 0.0005\n",
      "SAVE:\n",
      "  CHECKPOINT_DIRECTORY: ./drive/MyDrive/Projects/CoLabeler/Models/\n",
      "  DRIVE_BACKUP: false\n",
      "  MODEL_BACKBONE: res18\n",
      "  MODEL_CORE_NAME: colabel_devel\n",
      "  MODEL_QUALIFIER: type\n",
      "  MODEL_VERSION: 1\n",
      "  SAVE_FREQUENCY: 5\n",
      "SCHEDULER:\n",
      "- LR_KWARGS:\n",
      "    gamma: 0.1\n",
      "    step_size: 20\n",
      "  LR_SCHEDULER: StepLR\n",
      "  SCHEDULER_NAME: opt-1\n",
      "TRANSFORMATION:\n",
      "  BATCH_SIZE: 64\n",
      "  CHANNELS: 3\n",
      "  H_FLIP: 0.0\n",
      "  NORMALIZATION_MEAN: 0.5\n",
      "  NORMALIZATION_SCALE: 255\n",
      "  NORMALIZATION_STD: 0.5\n",
      "  RANDOM_ERASE: false\n",
      "  RANDOM_ERASE_VALUE: 0.5\n",
      "  SHAPE:\n",
      "  - 100\n",
      "  - 100\n",
      "  T_CROP: false\n",
      "  WORKERS: 1\n",
      "\n",
      "14:07:45 \n",
      "14:07:45 \n",
      "14:07:45 ****************************************\n",
      "14:07:45 No previous stop detected. Will start from epoch 0\n",
      "14:07:45 Reading data with DataReader VeRi\n",
      "14:07:45 Found ../Data/VeRi\n",
      "14:07:45 Found ../Data/VeRi\\image_train\n",
      "14:07:45 Found ../Data/VeRi\\image_test\n",
      "14:07:45 Found ../Data/VeRi\\image_query\n",
      "14:07:47 Train\tPID:    575\tCID:     20\tIMGS:    37746\n",
      "14:07:47 Test \tPID:    200\tCID:     19\tIMGS:    11579\n",
      "14:07:47 Query\tPID:    200\tCID:     19\tIMGS:     1678\n",
      "14:07:47 Tracks\tPID:    200\tCID:      0\\Tracks:     2021\n",
      "14:07:47 Generated training data generator\n",
      "14:07:47 Running classification model with classes: {'color': {'classes': 10}}\n",
      "14:07:47 Generated validation data/query generator\n",
      "14:07:47 Loaded classification_model_builder from ednaml.models to build model\n",
      "14:07:47 Finished instantiating model with ClassificationResnet architecture\n",
      "14:07:47 No saved model weights provided.\n"
     ]
    }
   ],
   "source": [
    "# Run the apply function\n",
    "eml.apply()"
   ]
  },
  {
   "cell_type": "code",
   "execution_count": null,
   "id": "9cb51927",
   "metadata": {},
   "outputs": [],
   "source": [
    "eml.train()"
   ]
  },
  {
   "cell_type": "markdown",
   "id": "156f4a7b",
   "metadata": {},
   "source": [
    "## Components of `apply()`"
   ]
  },
  {
   "cell_type": "markdown",
   "id": "1207bd35",
   "metadata": {},
   "source": [
    "### Setting up configuration values"
   ]
  },
  {
   "cell_type": "code",
   "execution_count": null,
   "id": "74f3ecb6",
   "metadata": {},
   "outputs": [],
   "source": [
    "eml=EdnaML(cfg, \"train\")"
   ]
  },
  {
   "cell_type": "code",
   "execution_count": null,
   "id": "38205416",
   "metadata": {},
   "outputs": [],
   "source": [
    "eml.config"
   ]
  },
  {
   "cell_type": "code",
   "execution_count": null,
   "id": "10122e84",
   "metadata": {},
   "outputs": [],
   "source": [
    "eml.mode, eml.weights, eml.pretrained_weights, eml.verbose"
   ]
  },
  {
   "cell_type": "code",
   "execution_count": null,
   "id": "e88b581e",
   "metadata": {},
   "outputs": [],
   "source": [
    "eml.cfg.__dict__[\"LOSS_OPTIMIZER\"][0].__dict__"
   ]
  },
  {
   "cell_type": "code",
   "execution_count": null,
   "id": "54c0675f",
   "metadata": {},
   "outputs": [],
   "source": [
    "eml.saveMetadata.__dict__"
   ]
  },
  {
   "cell_type": "code",
   "execution_count": null,
   "id": "e401c661",
   "metadata": {},
   "outputs": [],
   "source": [
    "eml.gpus, eml.drive_backup, eml.previous_stop, eml.epochs, eml.skipeval, eml.fp16"
   ]
  },
  {
   "cell_type": "code",
   "execution_count": null,
   "id": "221d48f2",
   "metadata": {},
   "outputs": [],
   "source": [
    "# Fixing path for this\n",
    "eml.cfg.EXECUTION.DATAREADER.CRAWLER_ARGS[\"data_folder\"] = \"../Data/VeRi\"\n",
    "eml.cfg.TRANSFORMATION.BATCH_SIZE=64\n",
    "eml.cfg.EXECUTION.SKIPEVAL=False"
   ]
  },
  {
   "cell_type": "code",
   "execution_count": null,
   "id": "a4635c32",
   "metadata": {},
   "outputs": [],
   "source": [
    "osp.exists(eml.cfg.EXECUTION.DATAREADER.CRAWLER_ARGS[\"data_folder\"])"
   ]
  },
  {
   "cell_type": "markdown",
   "id": "e07530bd",
   "metadata": {},
   "source": [
    "#### Setup"
   ]
  },
  {
   "cell_type": "code",
   "execution_count": null,
   "id": "3a27870c",
   "metadata": {},
   "outputs": [],
   "source": [
    "eml.recordVars()"
   ]
  },
  {
   "cell_type": "markdown",
   "id": "fe2adbec",
   "metadata": {},
   "source": [
    "#### previous_stop"
   ]
  },
  {
   "cell_type": "code",
   "execution_count": null,
   "id": "20aa85af",
   "metadata": {},
   "outputs": [],
   "source": [
    "print(eml.previous_stop)\n",
    "eml.setPreviousStop()\n",
    "print(eml.previous_stop)"
   ]
  },
  {
   "cell_type": "markdown",
   "id": "b5670479",
   "metadata": {},
   "source": [
    "#### dataloaders"
   ]
  },
  {
   "cell_type": "code",
   "execution_count": null,
   "id": "f91b6528",
   "metadata": {},
   "outputs": [],
   "source": [
    "eml.buildDataloaders()"
   ]
  },
  {
   "cell_type": "code",
   "execution_count": null,
   "id": "fd32ec83",
   "metadata": {},
   "outputs": [],
   "source": [
    "eml.crawler.classes"
   ]
  },
  {
   "cell_type": "code",
   "execution_count": null,
   "id": "c3072eb3",
   "metadata": {},
   "outputs": [],
   "source": [
    "eml.train_generator.dataloader.__dict__"
   ]
  },
  {
   "cell_type": "markdown",
   "id": "4a43f248",
   "metadata": {},
   "source": [
    "#### model"
   ]
  },
  {
   "cell_type": "code",
   "execution_count": null,
   "id": "67802404",
   "metadata": {},
   "outputs": [],
   "source": [
    "eml.buildModel()\n",
    "eml.loadWeights()\n",
    "eml.getModelSummary()"
   ]
  },
  {
   "cell_type": "markdown",
   "id": "a93da242",
   "metadata": {},
   "source": [
    "#### optimizer+scheduler"
   ]
  },
  {
   "cell_type": "code",
   "execution_count": null,
   "id": "aa8d3bdb",
   "metadata": {},
   "outputs": [],
   "source": [
    "eml.buildOptimizer()\n",
    "eml.buildScheduler()"
   ]
  },
  {
   "cell_type": "code",
   "execution_count": null,
   "id": "f050917b",
   "metadata": {},
   "outputs": [],
   "source": [
    "eml.optimizer"
   ]
  },
  {
   "cell_type": "code",
   "execution_count": null,
   "id": "f5eaaf1b",
   "metadata": {},
   "outputs": [],
   "source": [
    "eml.scheduler[0].__dict__"
   ]
  },
  {
   "cell_type": "markdown",
   "id": "562590ea",
   "metadata": {},
   "source": [
    "#### losses"
   ]
  },
  {
   "cell_type": "code",
   "execution_count": null,
   "id": "6797d8eb",
   "metadata": {},
   "outputs": [],
   "source": [
    "eml.buildLossArray()"
   ]
  },
  {
   "cell_type": "code",
   "execution_count": null,
   "id": "606a69af",
   "metadata": {},
   "outputs": [],
   "source": [
    "eml.loss_function_array[0].__dict__"
   ]
  },
  {
   "cell_type": "code",
   "execution_count": null,
   "id": "4828602f",
   "metadata": {},
   "outputs": [],
   "source": [
    "eml.labelMetadata"
   ]
  },
  {
   "cell_type": "markdown",
   "id": "6486112a",
   "metadata": {},
   "source": [
    "#### loss opt+schedule"
   ]
  },
  {
   "cell_type": "code",
   "execution_count": null,
   "id": "9d43275e",
   "metadata": {},
   "outputs": [],
   "source": [
    "eml.buildLossOptimizer()\n",
    "eml.buildLossScheduler()"
   ]
  },
  {
   "cell_type": "code",
   "execution_count": null,
   "id": "18b20295",
   "metadata": {},
   "outputs": [],
   "source": [
    "eml.loss_scheduler"
   ]
  },
  {
   "cell_type": "markdown",
   "id": "63af2b30",
   "metadata": {},
   "source": [
    "#### trainer"
   ]
  },
  {
   "cell_type": "code",
   "execution_count": null,
   "id": "b13b7e36",
   "metadata": {},
   "outputs": [],
   "source": [
    "eml.buildTrainer()"
   ]
  },
  {
   "cell_type": "markdown",
   "id": "b9ba27f3",
   "metadata": {},
   "source": [
    "#### Training"
   ]
  },
  {
   "cell_type": "code",
   "execution_count": null,
   "id": "57cd0e5e",
   "metadata": {},
   "outputs": [],
   "source": [
    "eml.train()"
   ]
  }
 ],
 "metadata": {
  "kernelspec": {
   "display_name": "Python 3 (ipykernel)",
   "language": "python",
   "name": "python3"
  },
  "language_info": {
   "codemirror_mode": {
    "name": "ipython",
    "version": 3
   },
   "file_extension": ".py",
   "mimetype": "text/x-python",
   "name": "python",
   "nbconvert_exporter": "python",
   "pygments_lexer": "ipython3",
   "version": "3.9.11"
  }
 },
 "nbformat": 4,
 "nbformat_minor": 5
}
