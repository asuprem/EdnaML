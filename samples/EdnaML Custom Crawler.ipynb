{
 "cells": [
  {
   "cell_type": "markdown",
   "id": "4508ad45",
   "metadata": {},
   "source": [
    "# Setup"
   ]
  },
  {
   "cell_type": "code",
   "execution_count": 1,
   "id": "e7a8b23f",
   "metadata": {},
   "outputs": [],
   "source": [
    "import os.path as osp"
   ]
  },
  {
   "cell_type": "code",
   "execution_count": 2,
   "id": "1aebbde9",
   "metadata": {},
   "outputs": [
    {
     "data": {
      "text/plain": [
       "True"
      ]
     },
     "execution_count": 2,
     "metadata": {},
     "output_type": "execute_result"
    }
   ],
   "source": [
    "cfg=\"../usage-docs/sample-configs/datasets/config-veri.yml\"\n",
    "osp.exists(cfg)"
   ]
  },
  {
   "cell_type": "code",
   "execution_count": 3,
   "id": "26d47c7f",
   "metadata": {},
   "outputs": [],
   "source": [
    "from ednaml.core import EdnaML"
   ]
  },
  {
   "cell_type": "markdown",
   "id": "c8e9f47e",
   "metadata": {},
   "source": [
    "## Define Crawler Class"
   ]
  },
  {
   "cell_type": "code",
   "execution_count": 4,
   "id": "35a84e4a",
   "metadata": {},
   "outputs": [],
   "source": [
    "from collections import defaultdict\n",
    "import os,re,glob,xml.etree.ElementTree as ET\n",
    "class CustomVeRiCrawler:\n",
    "\tdef __init__(A,data_folder='VeRi',train_folder='image_train',test_folder='image_test',query_folder='image_query',**B):A.metadata={};A.data_folder=data_folder;A.train_folder=os.path.join(A.data_folder,train_folder);A.test_folder=os.path.join(A.data_folder,test_folder);A.query_folder=os.path.join(A.data_folder,query_folder);A.tracks_file=os.path.join(A.data_folder,'test_track.txt');A.testlabel=os.path.join(A.data_folder,'test_label.xml');A.trainlabel=os.path.join(A.data_folder,'train_label.xml');A.__verify(A.data_folder);A.__verify(A.train_folder);A.__verify(A.test_folder);A.__verify(A.query_folder);A.crawl()\n",
    "\tdef __verify(B,folder):\n",
    "\t\tA=folder\n",
    "\t\tif not os.path.exists(A):raise IOError('Folder {data_folder} does not exist'.format(data_folder=A))\n",
    "\t\telse:0\n",
    "\tdef crawl(A):\n",
    "\t\tA.colordict=defaultdict(lambda:-1);A.typedict=defaultdict(lambda:-1)\n",
    "\t\twith open(A.trainlabel,'r')as F:E=ET.fromstring(F.read())\n",
    "\t\tfor B in E[0]:D=B.get('vehicleID');G=B.get('colorID');H=B.get('typeID');A.colordict[int(D)]=int(G)-1;A.typedict[int(D)]=int(H)-1\n",
    "\t\twith open(A.testlabel,'r')as F:E=ET.fromstring(F.read())\n",
    "\t\tfor B in E[0]:D=B.get('vehicleID');G=B.get('colorID');H=B.get('typeID');A.colordict[int(D)]=int(G)-1;A.typedict[int(D)]=int(H)-1\n",
    "\t\tdel E;A.classes={};A.classes['color']=10;A.classes['type']=9;A.metadata['train'],A.metadata['test'],A.metadata['query'],A.metadata['track']={},{},{},{};A.metadata['train']['crawl'],A.metadata['train']['pid'],A.metadata['train']['cid'],A.metadata['train']['imgs']=A.__crawl(A.train_folder,reset_labels=True);A.metadata['test']['crawl'],A.metadata['test']['pid'],A.metadata['test']['cid'],A.metadata['test']['imgs']=A.__crawl(A.test_folder);A.metadata['query']['crawl'],A.metadata['query']['pid'],A.metadata['query']['cid'],A.metadata['query']['imgs']=A.__crawl(A.query_folder);A.metadata['track']['crawl'],A.metadata['track']['pid'],A.metadata['track']['cid'],A.metadata['track']['imgs'],A.metadata['track']['dict'],A.metadata['track']['info']=A.__crawltracks(A.test_folder);A.metadata['val'],A.metadata['full']={},{};A.metadata['val']['crawl'],A.metadata['full']['crawl']=[],[]\n",
    "\t\tfor C in ['train','test','val','full']:A.metadata[C]['imgs']=len(A.metadata[C]['crawl']);A.metadata[C]['classes']={};A.metadata[C]['classes']['color']=10;A.metadata[C]['classes']['type']=9;A.metadata[C]['classes']['pid']=A.metadata['train']['pid'];A.metadata[C]['classes']['cid']=A.metadata['train']['cid']\n",
    "\t\tprint('Train\\tPID: {:6d}\\tCID: {:6d}\\tIMGS: {:8d}'.format(A.metadata['train']['pid'],A.metadata['train']['cid'],A.metadata['train']['imgs']));print('Test \\tPID: {:6d}\\tCID: {:6d}\\tIMGS: {:8d}'.format(A.metadata['test']['pid'],A.metadata['test']['cid'],A.metadata['test']['imgs']));print('Query\\tPID: {:6d}\\tCID: {:6d}\\tIMGS: {:8d}'.format(A.metadata['query']['pid'],A.metadata['query']['cid'],A.metadata['query']['imgs']));print('Tracks\\tPID: {:6d}\\tCID: {:6d}\\\\Tracks: {:8d}'.format(A.metadata['track']['pid'],A.metadata['track']['cid'],A.metadata['track']['imgs']))\n",
    "\tdef __crawl(F,folder,reset_labels=False):\n",
    "\t\tI=glob.glob(os.path.join(folder,'*.jpg'));J=re.compile('([\\\\d]+)_[a-z]([\\\\d]+)');G=0;C,D={},{};E=[];K,L,M=0,0,0\n",
    "\t\tfor H in I:\n",
    "\t\t\tA,B=map(int,J.search(H).groups())\n",
    "\t\t\tif A<0:continue\n",
    "\t\t\tif B<0:continue\n",
    "\t\t\tif A not in C:C[A]=G if reset_labels else A;G+=1\n",
    "\t\t\tif B not in D:D[B]=B-1\n",
    "\t\t\tE.append((H,C[A],B-1,F.colordict[A],F.typedict[A]))\n",
    "\t\treturn E,len(C),len(D),len(E)\n",
    "\tdef __crawltracks(D,folder,reset_labels=False):\n",
    "\t\tL=re.compile('([\\\\d]+)_[a-z]([\\\\d]+)');H=0;B,M={},{};E=[];Q,R,S=0,0,0;I,J={},{};F=0\n",
    "\t\twith open(D.tracks_file,'r')as N:\n",
    "\t\t\tfor O in N:\n",
    "\t\t\t\tK=O.strip().split(' ');T=K[0];C=K[1:];C=[os.path.join(folder,A)for A in C];A,G=map(int,L.search(C[0]).groups())\n",
    "\t\t\t\tif A<0:continue\n",
    "\t\t\t\tif G<0:continue\n",
    "\t\t\t\tif A not in B:B[A]=H if reset_labels else A;H+=1\n",
    "\t\t\t\tE.append((C,B[A],G-1,D.colordict[A],D.typedict[A]))\n",
    "\t\t\t\tfor P in C:I[P]=F\n",
    "\t\t\t\tJ[F]={'pid':B[A],'cid':G-1};F+=1\n",
    "\t\treturn E,len(B),len(M),len(E),I,J"
   ]
  },
  {
   "cell_type": "markdown",
   "id": "f4136ab5",
   "metadata": {},
   "source": [
    "## define arguments, type, and instance"
   ]
  },
  {
   "cell_type": "code",
   "execution_count": 5,
   "id": "b08ebd69",
   "metadata": {},
   "outputs": [
    {
     "name": "stdout",
     "output_type": "stream",
     "text": [
      "Train\tPID:    575\tCID:     20\tIMGS:    37746\n",
      "Test \tPID:    200\tCID:     19\tIMGS:    11579\n",
      "Query\tPID:    200\tCID:     19\tIMGS:     1678\n",
      "Tracks\tPID:    200\tCID:      0\\Tracks:     2021\n"
     ]
    }
   ],
   "source": [
    "crawlerclass = CustomVeRiCrawler\n",
    "crawler_args={\"data_folder\":\"../Data/VeRi\"}\n",
    "crawler_instance = CustomVeRiCrawler(**crawler_args)"
   ]
  },
  {
   "cell_type": "markdown",
   "id": "af4c3b5b",
   "metadata": {},
   "source": [
    "## Approach 1 -- pass crawler class and arguments"
   ]
  },
  {
   "cell_type": "code",
   "execution_count": 6,
   "id": "107b4354",
   "metadata": {},
   "outputs": [],
   "source": [
    "eml = EdnaML(cfg, \"train\")"
   ]
  },
  {
   "cell_type": "code",
   "execution_count": 7,
   "id": "3a0500c8",
   "metadata": {},
   "outputs": [],
   "source": [
    "eml.cfg.TRANSFORMATION.BATCH_SIZE=64\n",
    "eml.cfg.EXECUTION.SKIPEVAL=False"
   ]
  },
  {
   "cell_type": "code",
   "execution_count": 9,
   "id": "139536ca",
   "metadata": {},
   "outputs": [],
   "source": [
    "eml.addCrawlerClass(crawlerclass, **crawler_args)"
   ]
  },
  {
   "cell_type": "code",
   "execution_count": 10,
   "id": "007c1acb",
   "metadata": {},
   "outputs": [
    {
     "name": "stderr",
     "output_type": "stream",
     "text": [
      "11:26:46 ****************************************\n",
      "11:26:46 \n",
      "11:26:46 \n",
      "11:26:46 Using the following configuration:\n",
      "11:26:46 EXECUTION:\n",
      "  DATAREADER:\n",
      "    CRAWLER_ARGS:\n",
      "      data_folder: Data/VeRi\n",
      "    DATALOADER_ARGS: {}\n",
      "    DATAREADER: VeRi\n",
      "    DATASET_ARGS:\n",
      "      annotationidx: 3\n",
      "      classificationclass: color\n",
      "      pathidx: 0\n",
      "    GENERATOR: ClassificationGenerator\n",
      "    GENERATOR_ARGS: {}\n",
      "  EPOCHS: 10\n",
      "  FP16: false\n",
      "  MODEL_SERVING: None\n",
      "  OPTIMIZER_BUILDER: ClassificationOptimizer\n",
      "  SKIPEVAL: false\n",
      "  TEST_FREQUENCY: 5\n",
      "  TRAINER: ClassificationTrainer\n",
      "LOGGING:\n",
      "  STEP_VERBOSE: 100\n",
      "LOSS:\n",
      "- KWARGS:\n",
      "  - {}\n",
      "  LABEL: color\n",
      "  LAMBDAS:\n",
      "  - 1.0\n",
      "  LOSSES:\n",
      "  - SoftmaxLogitsLoss\n",
      "  NAME: out1\n",
      "LOSS_OPTIMIZER:\n",
      "- BASE_LR: 0.001\n",
      "  LR_BIAS_FACTOR: 1.0\n",
      "  OPTIMIZER: Adam\n",
      "  OPTIMIZER_KWARGS: {}\n",
      "  OPTIMIZER_NAME: opt-1\n",
      "  WEIGHT_BIAS_FACTOR: 0.0005\n",
      "  WEIGHT_DECAY: 0.0005\n",
      "LOSS_SCHEDULER:\n",
      "- LR_KWARGS:\n",
      "    step_size: 20\n",
      "  LR_SCHEDULER: StepLR\n",
      "  SCHEDULER_NAME: opt-1\n",
      "MODEL:\n",
      "  BUILDER: classification_model_builder\n",
      "  MODEL_ARCH: ClassificationResnet\n",
      "  MODEL_BASE: resnet18\n",
      "  MODEL_KWARGS: {}\n",
      "  MODEL_NORMALIZATION: bn\n",
      "  PARAMETER_GROUPS:\n",
      "  - opt-1\n",
      "OPTIMIZER:\n",
      "- BASE_LR: 1.0e-05\n",
      "  LR_BIAS_FACTOR: 1.0\n",
      "  OPTIMIZER: Adam\n",
      "  OPTIMIZER_KWARGS: {}\n",
      "  OPTIMIZER_NAME: opt-1\n",
      "  WEIGHT_BIAS_FACTOR: 0.0005\n",
      "  WEIGHT_DECAY: 0.0005\n",
      "SAVE:\n",
      "  CHECKPOINT_DIRECTORY: ./drive/MyDrive/Projects/CoLabeler/Models/\n",
      "  DRIVE_BACKUP: false\n",
      "  MODEL_BACKBONE: res18\n",
      "  MODEL_CORE_NAME: colabel_devel\n",
      "  MODEL_QUALIFIER: type\n",
      "  MODEL_VERSION: 1\n",
      "  SAVE_FREQUENCY: 5\n",
      "SCHEDULER:\n",
      "- LR_KWARGS:\n",
      "    gamma: 0.1\n",
      "    step_size: 20\n",
      "  LR_SCHEDULER: StepLR\n",
      "  SCHEDULER_NAME: opt-1\n",
      "TRANSFORMATION:\n",
      "  BATCH_SIZE: 64\n",
      "  CHANNELS: 3\n",
      "  H_FLIP: 0.0\n",
      "  NORMALIZATION_MEAN: 0.5\n",
      "  NORMALIZATION_SCALE: 255\n",
      "  NORMALIZATION_STD: 0.5\n",
      "  RANDOM_ERASE: false\n",
      "  RANDOM_ERASE_VALUE: 0.5\n",
      "  SHAPE:\n",
      "  - 100\n",
      "  - 100\n",
      "  T_CROP: false\n",
      "  WORKERS: 1\n",
      "\n",
      "11:26:46 \n",
      "11:26:46 \n",
      "11:26:46 ****************************************\n",
      "11:26:46 No previous stop detected. Will start from epoch 0\n",
      "11:26:46 Reading data with DataReader VeRi\n",
      "11:26:46 Generated training data generator\n",
      "11:26:46 Running classification model with classes: {'color': {'classes': 10}}\n",
      "11:26:46 Generated validation data/query generator\n",
      "11:26:46 Loaded classification_model_builder from ednaml.models to build model\n"
     ]
    },
    {
     "name": "stdout",
     "output_type": "stream",
     "text": [
      "Train\tPID:    575\tCID:     20\tIMGS:    37746\n",
      "Test \tPID:    200\tCID:     19\tIMGS:    11579\n",
      "Query\tPID:    200\tCID:     19\tIMGS:     1678\n",
      "Tracks\tPID:    200\tCID:      0\\Tracks:     2021\n"
     ]
    },
    {
     "name": "stderr",
     "output_type": "stream",
     "text": [
      "11:26:46 Finished instantiating model with ClassificationResnet architecture\n",
      "11:26:46 No saved model weights provided.\n",
      "11:26:52 ==========================================================================================================================================================================\n",
      "Layer (type:depth-idx)                        Input Shape               Output Shape              Param #                   Kernel Shape              Mult-Adds\n",
      "==========================================================================================================================================================================\n",
      "ClassificationResnet                          --                        --                        --                        --                        --\n",
      "├─resnet: 1-1                                 [64, 3, 100, 100]         [64, 512, 7, 7]           --                        --                        --\n",
      "│    └─Conv2d: 2-1                            [64, 3, 100, 100]         [64, 64, 50, 50]          9,408                     [3, 64, 7, 7]             1,505,280,000\n",
      "│    └─BatchNorm2d: 2-2                       [64, 64, 50, 50]          [64, 64, 50, 50]          128                       [64]                      8,192\n",
      "│    └─ReLU: 2-3                              [64, 64, 50, 50]          [64, 64, 50, 50]          --                        --                        --\n",
      "│    └─MaxPool2d: 2-4                         [64, 64, 50, 50]          [64, 64, 25, 25]          --                        --                        --\n",
      "│    └─Sequential: 2-5                        [64, 64, 25, 25]          [64, 64, 25, 25]          --                        --                        --\n",
      "│    │    └─ResnetBasicBlock: 3-1             [64, 64, 25, 25]          [64, 64, 25, 25]          73,984                    --                        2,949,136,384\n",
      "│    │    └─ResnetBasicBlock: 3-2             [64, 64, 25, 25]          [64, 64, 25, 25]          73,984                    --                        2,949,136,384\n",
      "│    └─Sequential: 2-6                        [64, 64, 25, 25]          [64, 128, 13, 13]         --                        --                        --\n",
      "│    │    └─ResnetBasicBlock: 3-3             [64, 64, 25, 25]          [64, 128, 13, 13]         230,144                   --                        2,480,979,968\n",
      "│    │    └─ResnetBasicBlock: 3-4             [64, 128, 13, 13]         [64, 128, 13, 13]         295,424                   --                        3,189,800,960\n",
      "│    └─Sequential: 2-7                        [64, 128, 13, 13]         [64, 256, 7, 7]           --                        --                        --\n",
      "│    │    └─ResnetBasicBlock: 3-5             [64, 128, 13, 13]         [64, 256, 7, 7]           919,040                   --                        2,877,390,848\n",
      "│    │    └─ResnetBasicBlock: 3-6             [64, 256, 7, 7]           [64, 256, 7, 7]           1,180,672                 --                        3,699,441,664\n",
      "│    └─Sequential: 2-8                        [64, 256, 7, 7]           [64, 512, 7, 7]           --                        --                        --\n",
      "│    │    └─ResnetBasicBlock: 3-7             [64, 256, 7, 7]           [64, 512, 7, 7]           3,673,088                 --                        11,509,366,784\n",
      "│    │    └─ResnetBasicBlock: 3-8             [64, 512, 7, 7]           [64, 512, 7, 7]           4,720,640                 --                        14,797,635,584\n",
      "├─AdaptiveAvgPool2d: 1-2                      [64, 512, 7, 7]           [64, 512, 1, 1]           --                        --                        --\n",
      "├─Identity: 1-3                               [64, 512]                 [64, 512]                 --                        --                        --\n",
      "├─BatchNorm1d: 1-4                            [64, 512]                 [64, 512]                 1,024                     [512]                     65,536\n",
      "├─Linear: 1-5                                 [64, 512]                 [64, 10]                  5,120                     [512, 10]                 327,680\n",
      "==========================================================================================================================================================================\n",
      "Total params: 11,182,656\n",
      "Trainable params: 11,182,144\n",
      "Non-trainable params: 512\n",
      "Total mult-adds (G): 45.96\n",
      "==========================================================================================================================================================================\n",
      "Input size (MB): 7.68\n",
      "Forward/backward pass size (MB): 631.38\n",
      "Params size (MB): 44.73\n",
      "Estimated Total Size (MB): 683.79\n",
      "==========================================================================================================================================================================\n",
      "11:26:52 Loaded ClassificationOptimizer from ednaml.optimizer to build Optimizer model\n",
      "11:26:52 Built optimizer\n",
      "11:26:52 Built scheduler\n",
      "11:26:52 Added SoftmaxLogitsLoss with lambda = 1.0 and loss arguments {}\n",
      "11:26:52 Built loss function\n",
      "11:26:52 Built loss optimizer\n",
      "11:26:52 Built loss scheduler\n",
      "11:26:52 Loaded ClassificationTrainer from ednaml.trainer to build Trainer\n",
      "11:26:52 Saving model metadata\n",
      "11:26:52 Backing up metadata\n",
      "11:26:52 Finished metadata backup\n"
     ]
    }
   ],
   "source": [
    "eml.apply()"
   ]
  },
  {
   "cell_type": "code",
   "execution_count": 11,
   "id": "028beb30",
   "metadata": {},
   "outputs": [
    {
     "name": "stderr",
     "output_type": "stream",
     "text": [
      "11:26:57 Starting training\n",
      "11:26:57 Logging to:\tcolabel_devel-v1-res18-type-logger.log\n",
      "11:26:57 Models will be saved to local directory:\tcolabel_devel-v1-res18-type\n",
      "11:26:57 Models will be saved with base name:\tcolabel_devel-v1_epoch[].pth\n",
      "11:26:57 Optimizers will be saved with base name:\tcolabel_devel-v1_epoch[]_optimizer.pth\n",
      "11:26:57 Schedulers will be saved with base name:\tcolabel_devel-v1_epoch[]_scheduler.pth\n",
      "11:26:57 Performing initial evaluation...\n",
      "                                                                                                                       \r"
     ]
    },
    {
     "ename": "KeyboardInterrupt",
     "evalue": "",
     "output_type": "error",
     "traceback": [
      "\u001b[1;31m---------------------------------------------------------------------------\u001b[0m",
      "\u001b[1;31mKeyboardInterrupt\u001b[0m                         Traceback (most recent call last)",
      "Input \u001b[1;32mIn [11]\u001b[0m, in \u001b[0;36m<cell line: 1>\u001b[1;34m()\u001b[0m\n\u001b[1;32m----> 1\u001b[0m \u001b[43meml\u001b[49m\u001b[38;5;241;43m.\u001b[39;49m\u001b[43mtrain\u001b[49m\u001b[43m(\u001b[49m\u001b[43m)\u001b[49m\n",
      "File \u001b[1;32me:\\projects\\glamor\\src\\ednaml\\core\\EdnaML.py:178\u001b[0m, in \u001b[0;36mEdnaML.train\u001b[1;34m(self)\u001b[0m\n\u001b[0;32m    177\u001b[0m \u001b[38;5;28;01mdef\u001b[39;00m \u001b[38;5;21mtrain\u001b[39m(\u001b[38;5;28mself\u001b[39m):\n\u001b[1;32m--> 178\u001b[0m     \u001b[38;5;28;43mself\u001b[39;49m\u001b[38;5;241;43m.\u001b[39;49m\u001b[43mtrainer\u001b[49m\u001b[38;5;241;43m.\u001b[39;49m\u001b[43mtrain\u001b[49m\u001b[43m(\u001b[49m\u001b[43mcontinue_epoch\u001b[49m\u001b[38;5;241;43m=\u001b[39;49m\u001b[38;5;28;43mself\u001b[39;49m\u001b[38;5;241;43m.\u001b[39;49m\u001b[43mprevious_stop\u001b[49m\u001b[43m)\u001b[49m\n",
      "File \u001b[1;32me:\\projects\\glamor\\src\\ednaml\\trainer\\BaseTrainer.py:299\u001b[0m, in \u001b[0;36mBaseTrainer.train\u001b[1;34m(self, continue_epoch)\u001b[0m\n\u001b[0;32m    297\u001b[0m \u001b[38;5;28;01mif\u001b[39;00m \u001b[38;5;129;01mnot\u001b[39;00m \u001b[38;5;28mself\u001b[39m\u001b[38;5;241m.\u001b[39mskipeval:\n\u001b[0;32m    298\u001b[0m     \u001b[38;5;28mself\u001b[39m\u001b[38;5;241m.\u001b[39mlogger\u001b[38;5;241m.\u001b[39minfo(\u001b[38;5;124m\"\u001b[39m\u001b[38;5;124mPerforming initial evaluation...\u001b[39m\u001b[38;5;124m\"\u001b[39m)\n\u001b[1;32m--> 299\u001b[0m     \u001b[38;5;28;43mself\u001b[39;49m\u001b[38;5;241;43m.\u001b[39;49m\u001b[43minitial_evaluate\u001b[49m\u001b[43m(\u001b[49m\u001b[43m)\u001b[49m\n\u001b[0;32m    300\u001b[0m \u001b[38;5;28;01melse\u001b[39;00m:\n\u001b[0;32m    301\u001b[0m     \u001b[38;5;28mself\u001b[39m\u001b[38;5;241m.\u001b[39mlogger\u001b[38;5;241m.\u001b[39minfo(\u001b[38;5;124m\"\u001b[39m\u001b[38;5;124mSkipping initial evaluation.\u001b[39m\u001b[38;5;124m\"\u001b[39m)\n",
      "File \u001b[1;32me:\\projects\\glamor\\src\\ednaml\\trainer\\BaseTrainer.py:313\u001b[0m, in \u001b[0;36mBaseTrainer.initial_evaluate\u001b[1;34m(self)\u001b[0m\n\u001b[0;32m    310\u001b[0m \u001b[38;5;28;01mdef\u001b[39;00m \u001b[38;5;21minitial_evaluate\u001b[39m(\u001b[38;5;28mself\u001b[39m):\n\u001b[0;32m    311\u001b[0m     \u001b[38;5;124;03m\"\"\"Evaluation of model before we start training\u001b[39;00m\n\u001b[0;32m    312\u001b[0m \u001b[38;5;124;03m    \"\"\"\u001b[39;00m\n\u001b[1;32m--> 313\u001b[0m     \u001b[38;5;28;43mself\u001b[39;49m\u001b[38;5;241;43m.\u001b[39;49m\u001b[43mevaluate\u001b[49m\u001b[43m(\u001b[49m\u001b[43m)\u001b[49m\n",
      "File \u001b[1;32me:\\projects\\glamor\\src\\ednaml\\trainer\\BaseTrainer.py:367\u001b[0m, in \u001b[0;36mBaseTrainer.evaluate\u001b[1;34m(self)\u001b[0m\n\u001b[0;32m    366\u001b[0m \u001b[38;5;28;01mdef\u001b[39;00m \u001b[38;5;21mevaluate\u001b[39m(\u001b[38;5;28mself\u001b[39m):\n\u001b[1;32m--> 367\u001b[0m     logit_labels, true_labels, features \u001b[38;5;241m=\u001b[39m \u001b[38;5;28;43mself\u001b[39;49m\u001b[38;5;241;43m.\u001b[39;49m\u001b[43mevaluate_impl\u001b[49m\u001b[43m(\u001b[49m\u001b[43m)\u001b[49m\n\u001b[0;32m    368\u001b[0m     \u001b[38;5;28;01mreturn\u001b[39;00m logit_labels, true_labels, \u001b[38;5;28mself\u001b[39m\u001b[38;5;241m.\u001b[39mcrawler\u001b[38;5;241m.\u001b[39mclasses, features\n",
      "File \u001b[1;32me:\\projects\\glamor\\src\\ednaml\\trainer\\ClassificationTrainer.py:98\u001b[0m, in \u001b[0;36mClassificationTrainer.evaluate_impl\u001b[1;34m(self)\u001b[0m\n\u001b[0;32m     96\u001b[0m features, logits, labels \u001b[38;5;241m=\u001b[39m [], [], []\n\u001b[0;32m     97\u001b[0m \u001b[38;5;28;01mwith\u001b[39;00m torch\u001b[38;5;241m.\u001b[39mno_grad():\n\u001b[1;32m---> 98\u001b[0m     \u001b[38;5;28;01mfor\u001b[39;00m batch \u001b[38;5;129;01min\u001b[39;00m tqdm\u001b[38;5;241m.\u001b[39mtqdm(\n\u001b[0;32m     99\u001b[0m         \u001b[38;5;28mself\u001b[39m\u001b[38;5;241m.\u001b[39mtest_loader, total\u001b[38;5;241m=\u001b[39m\u001b[38;5;28mlen\u001b[39m(\u001b[38;5;28mself\u001b[39m\u001b[38;5;241m.\u001b[39mtest_loader), leave\u001b[38;5;241m=\u001b[39m\u001b[38;5;28;01mFalse\u001b[39;00m\n\u001b[0;32m    100\u001b[0m     ):\n\u001b[0;32m    101\u001b[0m         data, label \u001b[38;5;241m=\u001b[39m batch\n\u001b[0;32m    102\u001b[0m         data \u001b[38;5;241m=\u001b[39m data\u001b[38;5;241m.\u001b[39mcuda()\n",
      "File \u001b[1;32m~\\anaconda3\\envs\\ednaml\\lib\\site-packages\\tqdm\\std.py:1195\u001b[0m, in \u001b[0;36mtqdm.__iter__\u001b[1;34m(self)\u001b[0m\n\u001b[0;32m   1192\u001b[0m time \u001b[38;5;241m=\u001b[39m \u001b[38;5;28mself\u001b[39m\u001b[38;5;241m.\u001b[39m_time\n\u001b[0;32m   1194\u001b[0m \u001b[38;5;28;01mtry\u001b[39;00m:\n\u001b[1;32m-> 1195\u001b[0m     \u001b[38;5;28;01mfor\u001b[39;00m obj \u001b[38;5;129;01min\u001b[39;00m iterable:\n\u001b[0;32m   1196\u001b[0m         \u001b[38;5;28;01myield\u001b[39;00m obj\n\u001b[0;32m   1197\u001b[0m         \u001b[38;5;66;03m# Update and possibly print the progressbar.\u001b[39;00m\n\u001b[0;32m   1198\u001b[0m         \u001b[38;5;66;03m# Note: does not call self.update(1) for speed optimisation.\u001b[39;00m\n",
      "File \u001b[1;32m~\\anaconda3\\envs\\ednaml\\lib\\site-packages\\torch\\utils\\data\\dataloader.py:530\u001b[0m, in \u001b[0;36m_BaseDataLoaderIter.__next__\u001b[1;34m(self)\u001b[0m\n\u001b[0;32m    528\u001b[0m \u001b[38;5;28;01mif\u001b[39;00m \u001b[38;5;28mself\u001b[39m\u001b[38;5;241m.\u001b[39m_sampler_iter \u001b[38;5;129;01mis\u001b[39;00m \u001b[38;5;28;01mNone\u001b[39;00m:\n\u001b[0;32m    529\u001b[0m     \u001b[38;5;28mself\u001b[39m\u001b[38;5;241m.\u001b[39m_reset()\n\u001b[1;32m--> 530\u001b[0m data \u001b[38;5;241m=\u001b[39m \u001b[38;5;28;43mself\u001b[39;49m\u001b[38;5;241;43m.\u001b[39;49m\u001b[43m_next_data\u001b[49m\u001b[43m(\u001b[49m\u001b[43m)\u001b[49m\n\u001b[0;32m    531\u001b[0m \u001b[38;5;28mself\u001b[39m\u001b[38;5;241m.\u001b[39m_num_yielded \u001b[38;5;241m+\u001b[39m\u001b[38;5;241m=\u001b[39m \u001b[38;5;241m1\u001b[39m\n\u001b[0;32m    532\u001b[0m \u001b[38;5;28;01mif\u001b[39;00m \u001b[38;5;28mself\u001b[39m\u001b[38;5;241m.\u001b[39m_dataset_kind \u001b[38;5;241m==\u001b[39m _DatasetKind\u001b[38;5;241m.\u001b[39mIterable \u001b[38;5;129;01mand\u001b[39;00m \\\n\u001b[0;32m    533\u001b[0m         \u001b[38;5;28mself\u001b[39m\u001b[38;5;241m.\u001b[39m_IterableDataset_len_called \u001b[38;5;129;01mis\u001b[39;00m \u001b[38;5;129;01mnot\u001b[39;00m \u001b[38;5;28;01mNone\u001b[39;00m \u001b[38;5;129;01mand\u001b[39;00m \\\n\u001b[0;32m    534\u001b[0m         \u001b[38;5;28mself\u001b[39m\u001b[38;5;241m.\u001b[39m_num_yielded \u001b[38;5;241m>\u001b[39m \u001b[38;5;28mself\u001b[39m\u001b[38;5;241m.\u001b[39m_IterableDataset_len_called:\n",
      "File \u001b[1;32m~\\anaconda3\\envs\\ednaml\\lib\\site-packages\\torch\\utils\\data\\dataloader.py:1207\u001b[0m, in \u001b[0;36m_MultiProcessingDataLoaderIter._next_data\u001b[1;34m(self)\u001b[0m\n\u001b[0;32m   1204\u001b[0m     \u001b[38;5;28;01mreturn\u001b[39;00m \u001b[38;5;28mself\u001b[39m\u001b[38;5;241m.\u001b[39m_process_data(data)\n\u001b[0;32m   1206\u001b[0m \u001b[38;5;28;01massert\u001b[39;00m \u001b[38;5;129;01mnot\u001b[39;00m \u001b[38;5;28mself\u001b[39m\u001b[38;5;241m.\u001b[39m_shutdown \u001b[38;5;129;01mand\u001b[39;00m \u001b[38;5;28mself\u001b[39m\u001b[38;5;241m.\u001b[39m_tasks_outstanding \u001b[38;5;241m>\u001b[39m \u001b[38;5;241m0\u001b[39m\n\u001b[1;32m-> 1207\u001b[0m idx, data \u001b[38;5;241m=\u001b[39m \u001b[38;5;28;43mself\u001b[39;49m\u001b[38;5;241;43m.\u001b[39;49m\u001b[43m_get_data\u001b[49m\u001b[43m(\u001b[49m\u001b[43m)\u001b[49m\n\u001b[0;32m   1208\u001b[0m \u001b[38;5;28mself\u001b[39m\u001b[38;5;241m.\u001b[39m_tasks_outstanding \u001b[38;5;241m-\u001b[39m\u001b[38;5;241m=\u001b[39m \u001b[38;5;241m1\u001b[39m\n\u001b[0;32m   1209\u001b[0m \u001b[38;5;28;01mif\u001b[39;00m \u001b[38;5;28mself\u001b[39m\u001b[38;5;241m.\u001b[39m_dataset_kind \u001b[38;5;241m==\u001b[39m _DatasetKind\u001b[38;5;241m.\u001b[39mIterable:\n\u001b[0;32m   1210\u001b[0m     \u001b[38;5;66;03m# Check for _IterableDatasetStopIteration\u001b[39;00m\n",
      "File \u001b[1;32m~\\anaconda3\\envs\\ednaml\\lib\\site-packages\\torch\\utils\\data\\dataloader.py:1173\u001b[0m, in \u001b[0;36m_MultiProcessingDataLoaderIter._get_data\u001b[1;34m(self)\u001b[0m\n\u001b[0;32m   1169\u001b[0m     \u001b[38;5;66;03m# In this case, `self._data_queue` is a `queue.Queue`,. But we don't\u001b[39;00m\n\u001b[0;32m   1170\u001b[0m     \u001b[38;5;66;03m# need to call `.task_done()` because we don't use `.join()`.\u001b[39;00m\n\u001b[0;32m   1171\u001b[0m \u001b[38;5;28;01melse\u001b[39;00m:\n\u001b[0;32m   1172\u001b[0m     \u001b[38;5;28;01mwhile\u001b[39;00m \u001b[38;5;28;01mTrue\u001b[39;00m:\n\u001b[1;32m-> 1173\u001b[0m         success, data \u001b[38;5;241m=\u001b[39m \u001b[38;5;28;43mself\u001b[39;49m\u001b[38;5;241;43m.\u001b[39;49m\u001b[43m_try_get_data\u001b[49m\u001b[43m(\u001b[49m\u001b[43m)\u001b[49m\n\u001b[0;32m   1174\u001b[0m         \u001b[38;5;28;01mif\u001b[39;00m success:\n\u001b[0;32m   1175\u001b[0m             \u001b[38;5;28;01mreturn\u001b[39;00m data\n",
      "File \u001b[1;32m~\\anaconda3\\envs\\ednaml\\lib\\site-packages\\torch\\utils\\data\\dataloader.py:1011\u001b[0m, in \u001b[0;36m_MultiProcessingDataLoaderIter._try_get_data\u001b[1;34m(self, timeout)\u001b[0m\n\u001b[0;32m    998\u001b[0m \u001b[38;5;28;01mdef\u001b[39;00m \u001b[38;5;21m_try_get_data\u001b[39m(\u001b[38;5;28mself\u001b[39m, timeout\u001b[38;5;241m=\u001b[39m_utils\u001b[38;5;241m.\u001b[39mMP_STATUS_CHECK_INTERVAL):\n\u001b[0;32m    999\u001b[0m     \u001b[38;5;66;03m# Tries to fetch data from `self._data_queue` once for a given timeout.\u001b[39;00m\n\u001b[0;32m   1000\u001b[0m     \u001b[38;5;66;03m# This can also be used as inner loop of fetching without timeout, with\u001b[39;00m\n\u001b[1;32m   (...)\u001b[0m\n\u001b[0;32m   1008\u001b[0m     \u001b[38;5;66;03m# Returns a 2-tuple:\u001b[39;00m\n\u001b[0;32m   1009\u001b[0m     \u001b[38;5;66;03m#   (bool: whether successfully get data, any: data if successful else None)\u001b[39;00m\n\u001b[0;32m   1010\u001b[0m     \u001b[38;5;28;01mtry\u001b[39;00m:\n\u001b[1;32m-> 1011\u001b[0m         data \u001b[38;5;241m=\u001b[39m \u001b[38;5;28;43mself\u001b[39;49m\u001b[38;5;241;43m.\u001b[39;49m\u001b[43m_data_queue\u001b[49m\u001b[38;5;241;43m.\u001b[39;49m\u001b[43mget\u001b[49m\u001b[43m(\u001b[49m\u001b[43mtimeout\u001b[49m\u001b[38;5;241;43m=\u001b[39;49m\u001b[43mtimeout\u001b[49m\u001b[43m)\u001b[49m\n\u001b[0;32m   1012\u001b[0m         \u001b[38;5;28;01mreturn\u001b[39;00m (\u001b[38;5;28;01mTrue\u001b[39;00m, data)\n\u001b[0;32m   1013\u001b[0m     \u001b[38;5;28;01mexcept\u001b[39;00m \u001b[38;5;167;01mException\u001b[39;00m \u001b[38;5;28;01mas\u001b[39;00m e:\n\u001b[0;32m   1014\u001b[0m         \u001b[38;5;66;03m# At timeout and error, we manually check whether any worker has\u001b[39;00m\n\u001b[0;32m   1015\u001b[0m         \u001b[38;5;66;03m# failed. Note that this is the only mechanism for Windows to detect\u001b[39;00m\n\u001b[0;32m   1016\u001b[0m         \u001b[38;5;66;03m# worker failures.\u001b[39;00m\n",
      "File \u001b[1;32m~\\anaconda3\\envs\\ednaml\\lib\\multiprocessing\\queues.py:113\u001b[0m, in \u001b[0;36mQueue.get\u001b[1;34m(self, block, timeout)\u001b[0m\n\u001b[0;32m    111\u001b[0m \u001b[38;5;28;01mif\u001b[39;00m block:\n\u001b[0;32m    112\u001b[0m     timeout \u001b[38;5;241m=\u001b[39m deadline \u001b[38;5;241m-\u001b[39m time\u001b[38;5;241m.\u001b[39mmonotonic()\n\u001b[1;32m--> 113\u001b[0m     \u001b[38;5;28;01mif\u001b[39;00m \u001b[38;5;129;01mnot\u001b[39;00m \u001b[38;5;28;43mself\u001b[39;49m\u001b[38;5;241;43m.\u001b[39;49m\u001b[43m_poll\u001b[49m\u001b[43m(\u001b[49m\u001b[43mtimeout\u001b[49m\u001b[43m)\u001b[49m:\n\u001b[0;32m    114\u001b[0m         \u001b[38;5;28;01mraise\u001b[39;00m Empty\n\u001b[0;32m    115\u001b[0m \u001b[38;5;28;01melif\u001b[39;00m \u001b[38;5;129;01mnot\u001b[39;00m \u001b[38;5;28mself\u001b[39m\u001b[38;5;241m.\u001b[39m_poll():\n",
      "File \u001b[1;32m~\\anaconda3\\envs\\ednaml\\lib\\multiprocessing\\connection.py:262\u001b[0m, in \u001b[0;36m_ConnectionBase.poll\u001b[1;34m(self, timeout)\u001b[0m\n\u001b[0;32m    260\u001b[0m \u001b[38;5;28mself\u001b[39m\u001b[38;5;241m.\u001b[39m_check_closed()\n\u001b[0;32m    261\u001b[0m \u001b[38;5;28mself\u001b[39m\u001b[38;5;241m.\u001b[39m_check_readable()\n\u001b[1;32m--> 262\u001b[0m \u001b[38;5;28;01mreturn\u001b[39;00m \u001b[38;5;28;43mself\u001b[39;49m\u001b[38;5;241;43m.\u001b[39;49m\u001b[43m_poll\u001b[49m\u001b[43m(\u001b[49m\u001b[43mtimeout\u001b[49m\u001b[43m)\u001b[49m\n",
      "File \u001b[1;32m~\\anaconda3\\envs\\ednaml\\lib\\multiprocessing\\connection.py:335\u001b[0m, in \u001b[0;36mPipeConnection._poll\u001b[1;34m(self, timeout)\u001b[0m\n\u001b[0;32m    332\u001b[0m \u001b[38;5;28;01mif\u001b[39;00m (\u001b[38;5;28mself\u001b[39m\u001b[38;5;241m.\u001b[39m_got_empty_message \u001b[38;5;129;01mor\u001b[39;00m\n\u001b[0;32m    333\u001b[0m             _winapi\u001b[38;5;241m.\u001b[39mPeekNamedPipe(\u001b[38;5;28mself\u001b[39m\u001b[38;5;241m.\u001b[39m_handle)[\u001b[38;5;241m0\u001b[39m] \u001b[38;5;241m!=\u001b[39m \u001b[38;5;241m0\u001b[39m):\n\u001b[0;32m    334\u001b[0m     \u001b[38;5;28;01mreturn\u001b[39;00m \u001b[38;5;28;01mTrue\u001b[39;00m\n\u001b[1;32m--> 335\u001b[0m \u001b[38;5;28;01mreturn\u001b[39;00m \u001b[38;5;28mbool\u001b[39m(\u001b[43mwait\u001b[49m\u001b[43m(\u001b[49m\u001b[43m[\u001b[49m\u001b[38;5;28;43mself\u001b[39;49m\u001b[43m]\u001b[49m\u001b[43m,\u001b[49m\u001b[43m \u001b[49m\u001b[43mtimeout\u001b[49m\u001b[43m)\u001b[49m)\n",
      "File \u001b[1;32m~\\anaconda3\\envs\\ednaml\\lib\\multiprocessing\\connection.py:884\u001b[0m, in \u001b[0;36mwait\u001b[1;34m(object_list, timeout)\u001b[0m\n\u001b[0;32m    881\u001b[0m                 ready_objects\u001b[38;5;241m.\u001b[39madd(o)\n\u001b[0;32m    882\u001b[0m                 timeout \u001b[38;5;241m=\u001b[39m \u001b[38;5;241m0\u001b[39m\n\u001b[1;32m--> 884\u001b[0m     ready_handles \u001b[38;5;241m=\u001b[39m \u001b[43m_exhaustive_wait\u001b[49m\u001b[43m(\u001b[49m\u001b[43mwaithandle_to_obj\u001b[49m\u001b[38;5;241;43m.\u001b[39;49m\u001b[43mkeys\u001b[49m\u001b[43m(\u001b[49m\u001b[43m)\u001b[49m\u001b[43m,\u001b[49m\u001b[43m \u001b[49m\u001b[43mtimeout\u001b[49m\u001b[43m)\u001b[49m\n\u001b[0;32m    885\u001b[0m \u001b[38;5;28;01mfinally\u001b[39;00m:\n\u001b[0;32m    886\u001b[0m     \u001b[38;5;66;03m# request that overlapped reads stop\u001b[39;00m\n\u001b[0;32m    887\u001b[0m     \u001b[38;5;28;01mfor\u001b[39;00m ov \u001b[38;5;129;01min\u001b[39;00m ov_list:\n",
      "File \u001b[1;32m~\\anaconda3\\envs\\ednaml\\lib\\multiprocessing\\connection.py:816\u001b[0m, in \u001b[0;36m_exhaustive_wait\u001b[1;34m(handles, timeout)\u001b[0m\n\u001b[0;32m    814\u001b[0m ready \u001b[38;5;241m=\u001b[39m []\n\u001b[0;32m    815\u001b[0m \u001b[38;5;28;01mwhile\u001b[39;00m L:\n\u001b[1;32m--> 816\u001b[0m     res \u001b[38;5;241m=\u001b[39m \u001b[43m_winapi\u001b[49m\u001b[38;5;241;43m.\u001b[39;49m\u001b[43mWaitForMultipleObjects\u001b[49m\u001b[43m(\u001b[49m\u001b[43mL\u001b[49m\u001b[43m,\u001b[49m\u001b[43m \u001b[49m\u001b[38;5;28;43;01mFalse\u001b[39;49;00m\u001b[43m,\u001b[49m\u001b[43m \u001b[49m\u001b[43mtimeout\u001b[49m\u001b[43m)\u001b[49m\n\u001b[0;32m    817\u001b[0m     \u001b[38;5;28;01mif\u001b[39;00m res \u001b[38;5;241m==\u001b[39m WAIT_TIMEOUT:\n\u001b[0;32m    818\u001b[0m         \u001b[38;5;28;01mbreak\u001b[39;00m\n",
      "\u001b[1;31mKeyboardInterrupt\u001b[0m: "
     ]
    }
   ],
   "source": [
    "eml.train()"
   ]
  },
  {
   "cell_type": "markdown",
   "id": "c90badc8",
   "metadata": {},
   "source": [
    "## Approach 2 -- pass crawler instance directly"
   ]
  },
  {
   "cell_type": "code",
   "execution_count": 12,
   "id": "38d5ba85",
   "metadata": {},
   "outputs": [
    {
     "name": "stdout",
     "output_type": "stream",
     "text": [
      "Log file exists at colabel_devel-v1-res18-type\\colabel_devel-v1-res18-type-logger.log. Will attempt to append there.\n"
     ]
    }
   ],
   "source": [
    "eml = EdnaML(cfg, \"train\")"
   ]
  },
  {
   "cell_type": "code",
   "execution_count": 13,
   "id": "3d677bb2",
   "metadata": {},
   "outputs": [],
   "source": [
    "eml.cfg.TRANSFORMATION.BATCH_SIZE=64\n",
    "eml.cfg.EXECUTION.SKIPEVAL=False"
   ]
  },
  {
   "cell_type": "code",
   "execution_count": 14,
   "id": "c778ebee",
   "metadata": {},
   "outputs": [],
   "source": [
    "eml.addCrawler(crawler_instance)"
   ]
  },
  {
   "cell_type": "code",
   "execution_count": 15,
   "id": "1abc7173",
   "metadata": {},
   "outputs": [
    {
     "name": "stderr",
     "output_type": "stream",
     "text": [
      "11:27:18 ****************************************\n",
      "11:27:18 \n",
      "11:27:18 \n",
      "11:27:18 Using the following configuration:\n",
      "11:27:18 EXECUTION:\n",
      "  DATAREADER:\n",
      "    CRAWLER_ARGS:\n",
      "      data_folder: Data/VeRi\n",
      "    DATALOADER_ARGS: {}\n",
      "    DATAREADER: VeRi\n",
      "    DATASET_ARGS:\n",
      "      annotationidx: 3\n",
      "      classificationclass: color\n",
      "      pathidx: 0\n",
      "    GENERATOR: ClassificationGenerator\n",
      "    GENERATOR_ARGS: {}\n",
      "  EPOCHS: 10\n",
      "  FP16: false\n",
      "  MODEL_SERVING: None\n",
      "  OPTIMIZER_BUILDER: ClassificationOptimizer\n",
      "  SKIPEVAL: false\n",
      "  TEST_FREQUENCY: 5\n",
      "  TRAINER: ClassificationTrainer\n",
      "LOGGING:\n",
      "  STEP_VERBOSE: 100\n",
      "LOSS:\n",
      "- KWARGS:\n",
      "  - {}\n",
      "  LABEL: color\n",
      "  LAMBDAS:\n",
      "  - 1.0\n",
      "  LOSSES:\n",
      "  - SoftmaxLogitsLoss\n",
      "  NAME: out1\n",
      "LOSS_OPTIMIZER:\n",
      "- BASE_LR: 0.001\n",
      "  LR_BIAS_FACTOR: 1.0\n",
      "  OPTIMIZER: Adam\n",
      "  OPTIMIZER_KWARGS: {}\n",
      "  OPTIMIZER_NAME: opt-1\n",
      "  WEIGHT_BIAS_FACTOR: 0.0005\n",
      "  WEIGHT_DECAY: 0.0005\n",
      "LOSS_SCHEDULER:\n",
      "- LR_KWARGS:\n",
      "    step_size: 20\n",
      "  LR_SCHEDULER: StepLR\n",
      "  SCHEDULER_NAME: opt-1\n",
      "MODEL:\n",
      "  BUILDER: classification_model_builder\n",
      "  MODEL_ARCH: ClassificationResnet\n",
      "  MODEL_BASE: resnet18\n",
      "  MODEL_KWARGS: {}\n",
      "  MODEL_NORMALIZATION: bn\n",
      "  PARAMETER_GROUPS:\n",
      "  - opt-1\n",
      "OPTIMIZER:\n",
      "- BASE_LR: 1.0e-05\n",
      "  LR_BIAS_FACTOR: 1.0\n",
      "  OPTIMIZER: Adam\n",
      "  OPTIMIZER_KWARGS: {}\n",
      "  OPTIMIZER_NAME: opt-1\n",
      "  WEIGHT_BIAS_FACTOR: 0.0005\n",
      "  WEIGHT_DECAY: 0.0005\n",
      "SAVE:\n",
      "  CHECKPOINT_DIRECTORY: ./drive/MyDrive/Projects/CoLabeler/Models/\n",
      "  DRIVE_BACKUP: false\n",
      "  MODEL_BACKBONE: res18\n",
      "  MODEL_CORE_NAME: colabel_devel\n",
      "  MODEL_QUALIFIER: type\n",
      "  MODEL_VERSION: 1\n",
      "  SAVE_FREQUENCY: 5\n",
      "SCHEDULER:\n",
      "- LR_KWARGS:\n",
      "    gamma: 0.1\n",
      "    step_size: 20\n",
      "  LR_SCHEDULER: StepLR\n",
      "  SCHEDULER_NAME: opt-1\n",
      "TRANSFORMATION:\n",
      "  BATCH_SIZE: 64\n",
      "  CHANNELS: 3\n",
      "  H_FLIP: 0.0\n",
      "  NORMALIZATION_MEAN: 0.5\n",
      "  NORMALIZATION_SCALE: 255\n",
      "  NORMALIZATION_STD: 0.5\n",
      "  RANDOM_ERASE: false\n",
      "  RANDOM_ERASE_VALUE: 0.5\n",
      "  SHAPE:\n",
      "  - 100\n",
      "  - 100\n",
      "  T_CROP: false\n",
      "  WORKERS: 1\n",
      "\n",
      "11:27:18 \n",
      "11:27:18 \n",
      "11:27:18 ****************************************\n",
      "11:27:18 No previous stop detected. Will start from epoch 0\n",
      "11:27:18 Reading data with DataReader VeRi\n",
      "11:27:18 Generated training data generator\n",
      "11:27:18 Running classification model with classes: {'color': {'classes': 10}}\n",
      "11:27:18 Generated validation data/query generator\n",
      "11:27:18 Loaded classification_model_builder from ednaml.models to build model\n",
      "11:27:18 Finished instantiating model with ClassificationResnet architecture\n",
      "11:27:18 No saved model weights provided.\n",
      "11:27:18 ==========================================================================================================================================================================\n",
      "Layer (type:depth-idx)                        Input Shape               Output Shape              Param #                   Kernel Shape              Mult-Adds\n",
      "==========================================================================================================================================================================\n",
      "ClassificationResnet                          --                        --                        --                        --                        --\n",
      "├─resnet: 1-1                                 [64, 3, 100, 100]         [64, 512, 7, 7]           --                        --                        --\n",
      "│    └─Conv2d: 2-1                            [64, 3, 100, 100]         [64, 64, 50, 50]          9,408                     [3, 64, 7, 7]             1,505,280,000\n",
      "│    └─BatchNorm2d: 2-2                       [64, 64, 50, 50]          [64, 64, 50, 50]          128                       [64]                      8,192\n",
      "│    └─ReLU: 2-3                              [64, 64, 50, 50]          [64, 64, 50, 50]          --                        --                        --\n",
      "│    └─MaxPool2d: 2-4                         [64, 64, 50, 50]          [64, 64, 25, 25]          --                        --                        --\n",
      "│    └─Sequential: 2-5                        [64, 64, 25, 25]          [64, 64, 25, 25]          --                        --                        --\n",
      "│    │    └─ResnetBasicBlock: 3-1             [64, 64, 25, 25]          [64, 64, 25, 25]          73,984                    --                        2,949,136,384\n",
      "│    │    └─ResnetBasicBlock: 3-2             [64, 64, 25, 25]          [64, 64, 25, 25]          73,984                    --                        2,949,136,384\n",
      "│    └─Sequential: 2-6                        [64, 64, 25, 25]          [64, 128, 13, 13]         --                        --                        --\n",
      "│    │    └─ResnetBasicBlock: 3-3             [64, 64, 25, 25]          [64, 128, 13, 13]         230,144                   --                        2,480,979,968\n",
      "│    │    └─ResnetBasicBlock: 3-4             [64, 128, 13, 13]         [64, 128, 13, 13]         295,424                   --                        3,189,800,960\n",
      "│    └─Sequential: 2-7                        [64, 128, 13, 13]         [64, 256, 7, 7]           --                        --                        --\n",
      "│    │    └─ResnetBasicBlock: 3-5             [64, 128, 13, 13]         [64, 256, 7, 7]           919,040                   --                        2,877,390,848\n",
      "│    │    └─ResnetBasicBlock: 3-6             [64, 256, 7, 7]           [64, 256, 7, 7]           1,180,672                 --                        3,699,441,664\n",
      "│    └─Sequential: 2-8                        [64, 256, 7, 7]           [64, 512, 7, 7]           --                        --                        --\n",
      "│    │    └─ResnetBasicBlock: 3-7             [64, 256, 7, 7]           [64, 512, 7, 7]           3,673,088                 --                        11,509,366,784\n",
      "│    │    └─ResnetBasicBlock: 3-8             [64, 512, 7, 7]           [64, 512, 7, 7]           4,720,640                 --                        14,797,635,584\n",
      "├─AdaptiveAvgPool2d: 1-2                      [64, 512, 7, 7]           [64, 512, 1, 1]           --                        --                        --\n",
      "├─Identity: 1-3                               [64, 512]                 [64, 512]                 --                        --                        --\n",
      "├─BatchNorm1d: 1-4                            [64, 512]                 [64, 512]                 1,024                     [512]                     65,536\n",
      "├─Linear: 1-5                                 [64, 512]                 [64, 10]                  5,120                     [512, 10]                 327,680\n",
      "==========================================================================================================================================================================\n",
      "Total params: 11,182,656\n",
      "Trainable params: 11,182,144\n",
      "Non-trainable params: 512\n",
      "Total mult-adds (G): 45.96\n",
      "==========================================================================================================================================================================\n",
      "Input size (MB): 7.68\n",
      "Forward/backward pass size (MB): 631.38\n",
      "Params size (MB): 44.73\n",
      "Estimated Total Size (MB): 683.79\n",
      "==========================================================================================================================================================================\n",
      "11:27:18 Loaded ClassificationOptimizer from ednaml.optimizer to build Optimizer model\n",
      "11:27:18 Built optimizer\n",
      "11:27:18 Built scheduler\n",
      "11:27:18 Added SoftmaxLogitsLoss with lambda = 1.0 and loss arguments {}\n",
      "11:27:18 Built loss function\n",
      "11:27:18 Built loss optimizer\n",
      "11:27:18 Built loss scheduler\n",
      "11:27:18 Loaded ClassificationTrainer from ednaml.trainer to build Trainer\n",
      "11:27:18 Saving model metadata\n",
      "11:27:18 Backing up metadata\n",
      "11:27:18 Finished metadata backup\n"
     ]
    }
   ],
   "source": [
    "eml.apply()"
   ]
  },
  {
   "cell_type": "code",
   "execution_count": 16,
   "id": "b6b8585a",
   "metadata": {},
   "outputs": [
    {
     "name": "stderr",
     "output_type": "stream",
     "text": [
      "11:27:39 Starting training\n",
      "11:27:39 Logging to:\tcolabel_devel-v1-res18-type-logger.log\n",
      "11:27:39 Models will be saved to local directory:\tcolabel_devel-v1-res18-type\n",
      "11:27:39 Models will be saved with base name:\tcolabel_devel-v1_epoch[].pth\n",
      "11:27:39 Optimizers will be saved with base name:\tcolabel_devel-v1_epoch[]_optimizer.pth\n",
      "11:27:39 Schedulers will be saved with base name:\tcolabel_devel-v1_epoch[]_scheduler.pth\n",
      "11:27:39 Performing initial evaluation...\n",
      "                                                                                                                       \r"
     ]
    },
    {
     "ename": "KeyboardInterrupt",
     "evalue": "",
     "output_type": "error",
     "traceback": [
      "\u001b[1;31m---------------------------------------------------------------------------\u001b[0m",
      "\u001b[1;31mKeyboardInterrupt\u001b[0m                         Traceback (most recent call last)",
      "Input \u001b[1;32mIn [16]\u001b[0m, in \u001b[0;36m<cell line: 1>\u001b[1;34m()\u001b[0m\n\u001b[1;32m----> 1\u001b[0m \u001b[43meml\u001b[49m\u001b[38;5;241;43m.\u001b[39;49m\u001b[43mtrain\u001b[49m\u001b[43m(\u001b[49m\u001b[43m)\u001b[49m\n",
      "File \u001b[1;32me:\\projects\\glamor\\src\\ednaml\\core\\EdnaML.py:178\u001b[0m, in \u001b[0;36mEdnaML.train\u001b[1;34m(self)\u001b[0m\n\u001b[0;32m    177\u001b[0m \u001b[38;5;28;01mdef\u001b[39;00m \u001b[38;5;21mtrain\u001b[39m(\u001b[38;5;28mself\u001b[39m):\n\u001b[1;32m--> 178\u001b[0m     \u001b[38;5;28;43mself\u001b[39;49m\u001b[38;5;241;43m.\u001b[39;49m\u001b[43mtrainer\u001b[49m\u001b[38;5;241;43m.\u001b[39;49m\u001b[43mtrain\u001b[49m\u001b[43m(\u001b[49m\u001b[43mcontinue_epoch\u001b[49m\u001b[38;5;241;43m=\u001b[39;49m\u001b[38;5;28;43mself\u001b[39;49m\u001b[38;5;241;43m.\u001b[39;49m\u001b[43mprevious_stop\u001b[49m\u001b[43m)\u001b[49m\n",
      "File \u001b[1;32me:\\projects\\glamor\\src\\ednaml\\trainer\\BaseTrainer.py:299\u001b[0m, in \u001b[0;36mBaseTrainer.train\u001b[1;34m(self, continue_epoch)\u001b[0m\n\u001b[0;32m    297\u001b[0m \u001b[38;5;28;01mif\u001b[39;00m \u001b[38;5;129;01mnot\u001b[39;00m \u001b[38;5;28mself\u001b[39m\u001b[38;5;241m.\u001b[39mskipeval:\n\u001b[0;32m    298\u001b[0m     \u001b[38;5;28mself\u001b[39m\u001b[38;5;241m.\u001b[39mlogger\u001b[38;5;241m.\u001b[39minfo(\u001b[38;5;124m\"\u001b[39m\u001b[38;5;124mPerforming initial evaluation...\u001b[39m\u001b[38;5;124m\"\u001b[39m)\n\u001b[1;32m--> 299\u001b[0m     \u001b[38;5;28;43mself\u001b[39;49m\u001b[38;5;241;43m.\u001b[39;49m\u001b[43minitial_evaluate\u001b[49m\u001b[43m(\u001b[49m\u001b[43m)\u001b[49m\n\u001b[0;32m    300\u001b[0m \u001b[38;5;28;01melse\u001b[39;00m:\n\u001b[0;32m    301\u001b[0m     \u001b[38;5;28mself\u001b[39m\u001b[38;5;241m.\u001b[39mlogger\u001b[38;5;241m.\u001b[39minfo(\u001b[38;5;124m\"\u001b[39m\u001b[38;5;124mSkipping initial evaluation.\u001b[39m\u001b[38;5;124m\"\u001b[39m)\n",
      "File \u001b[1;32me:\\projects\\glamor\\src\\ednaml\\trainer\\BaseTrainer.py:313\u001b[0m, in \u001b[0;36mBaseTrainer.initial_evaluate\u001b[1;34m(self)\u001b[0m\n\u001b[0;32m    310\u001b[0m \u001b[38;5;28;01mdef\u001b[39;00m \u001b[38;5;21minitial_evaluate\u001b[39m(\u001b[38;5;28mself\u001b[39m):\n\u001b[0;32m    311\u001b[0m     \u001b[38;5;124;03m\"\"\"Evaluation of model before we start training\u001b[39;00m\n\u001b[0;32m    312\u001b[0m \u001b[38;5;124;03m    \"\"\"\u001b[39;00m\n\u001b[1;32m--> 313\u001b[0m     \u001b[38;5;28;43mself\u001b[39;49m\u001b[38;5;241;43m.\u001b[39;49m\u001b[43mevaluate\u001b[49m\u001b[43m(\u001b[49m\u001b[43m)\u001b[49m\n",
      "File \u001b[1;32me:\\projects\\glamor\\src\\ednaml\\trainer\\BaseTrainer.py:367\u001b[0m, in \u001b[0;36mBaseTrainer.evaluate\u001b[1;34m(self)\u001b[0m\n\u001b[0;32m    366\u001b[0m \u001b[38;5;28;01mdef\u001b[39;00m \u001b[38;5;21mevaluate\u001b[39m(\u001b[38;5;28mself\u001b[39m):\n\u001b[1;32m--> 367\u001b[0m     logit_labels, true_labels, features \u001b[38;5;241m=\u001b[39m \u001b[38;5;28;43mself\u001b[39;49m\u001b[38;5;241;43m.\u001b[39;49m\u001b[43mevaluate_impl\u001b[49m\u001b[43m(\u001b[49m\u001b[43m)\u001b[49m\n\u001b[0;32m    368\u001b[0m     \u001b[38;5;28;01mreturn\u001b[39;00m logit_labels, true_labels, \u001b[38;5;28mself\u001b[39m\u001b[38;5;241m.\u001b[39mcrawler\u001b[38;5;241m.\u001b[39mclasses, features\n",
      "File \u001b[1;32me:\\projects\\glamor\\src\\ednaml\\trainer\\ClassificationTrainer.py:98\u001b[0m, in \u001b[0;36mClassificationTrainer.evaluate_impl\u001b[1;34m(self)\u001b[0m\n\u001b[0;32m     96\u001b[0m features, logits, labels \u001b[38;5;241m=\u001b[39m [], [], []\n\u001b[0;32m     97\u001b[0m \u001b[38;5;28;01mwith\u001b[39;00m torch\u001b[38;5;241m.\u001b[39mno_grad():\n\u001b[1;32m---> 98\u001b[0m     \u001b[38;5;28;01mfor\u001b[39;00m batch \u001b[38;5;129;01min\u001b[39;00m tqdm\u001b[38;5;241m.\u001b[39mtqdm(\n\u001b[0;32m     99\u001b[0m         \u001b[38;5;28mself\u001b[39m\u001b[38;5;241m.\u001b[39mtest_loader, total\u001b[38;5;241m=\u001b[39m\u001b[38;5;28mlen\u001b[39m(\u001b[38;5;28mself\u001b[39m\u001b[38;5;241m.\u001b[39mtest_loader), leave\u001b[38;5;241m=\u001b[39m\u001b[38;5;28;01mFalse\u001b[39;00m\n\u001b[0;32m    100\u001b[0m     ):\n\u001b[0;32m    101\u001b[0m         data, label \u001b[38;5;241m=\u001b[39m batch\n\u001b[0;32m    102\u001b[0m         data \u001b[38;5;241m=\u001b[39m data\u001b[38;5;241m.\u001b[39mcuda()\n",
      "File \u001b[1;32m~\\anaconda3\\envs\\ednaml\\lib\\site-packages\\tqdm\\std.py:1195\u001b[0m, in \u001b[0;36mtqdm.__iter__\u001b[1;34m(self)\u001b[0m\n\u001b[0;32m   1192\u001b[0m time \u001b[38;5;241m=\u001b[39m \u001b[38;5;28mself\u001b[39m\u001b[38;5;241m.\u001b[39m_time\n\u001b[0;32m   1194\u001b[0m \u001b[38;5;28;01mtry\u001b[39;00m:\n\u001b[1;32m-> 1195\u001b[0m     \u001b[38;5;28;01mfor\u001b[39;00m obj \u001b[38;5;129;01min\u001b[39;00m iterable:\n\u001b[0;32m   1196\u001b[0m         \u001b[38;5;28;01myield\u001b[39;00m obj\n\u001b[0;32m   1197\u001b[0m         \u001b[38;5;66;03m# Update and possibly print the progressbar.\u001b[39;00m\n\u001b[0;32m   1198\u001b[0m         \u001b[38;5;66;03m# Note: does not call self.update(1) for speed optimisation.\u001b[39;00m\n",
      "File \u001b[1;32m~\\anaconda3\\envs\\ednaml\\lib\\site-packages\\torch\\utils\\data\\dataloader.py:530\u001b[0m, in \u001b[0;36m_BaseDataLoaderIter.__next__\u001b[1;34m(self)\u001b[0m\n\u001b[0;32m    528\u001b[0m \u001b[38;5;28;01mif\u001b[39;00m \u001b[38;5;28mself\u001b[39m\u001b[38;5;241m.\u001b[39m_sampler_iter \u001b[38;5;129;01mis\u001b[39;00m \u001b[38;5;28;01mNone\u001b[39;00m:\n\u001b[0;32m    529\u001b[0m     \u001b[38;5;28mself\u001b[39m\u001b[38;5;241m.\u001b[39m_reset()\n\u001b[1;32m--> 530\u001b[0m data \u001b[38;5;241m=\u001b[39m \u001b[38;5;28;43mself\u001b[39;49m\u001b[38;5;241;43m.\u001b[39;49m\u001b[43m_next_data\u001b[49m\u001b[43m(\u001b[49m\u001b[43m)\u001b[49m\n\u001b[0;32m    531\u001b[0m \u001b[38;5;28mself\u001b[39m\u001b[38;5;241m.\u001b[39m_num_yielded \u001b[38;5;241m+\u001b[39m\u001b[38;5;241m=\u001b[39m \u001b[38;5;241m1\u001b[39m\n\u001b[0;32m    532\u001b[0m \u001b[38;5;28;01mif\u001b[39;00m \u001b[38;5;28mself\u001b[39m\u001b[38;5;241m.\u001b[39m_dataset_kind \u001b[38;5;241m==\u001b[39m _DatasetKind\u001b[38;5;241m.\u001b[39mIterable \u001b[38;5;129;01mand\u001b[39;00m \\\n\u001b[0;32m    533\u001b[0m         \u001b[38;5;28mself\u001b[39m\u001b[38;5;241m.\u001b[39m_IterableDataset_len_called \u001b[38;5;129;01mis\u001b[39;00m \u001b[38;5;129;01mnot\u001b[39;00m \u001b[38;5;28;01mNone\u001b[39;00m \u001b[38;5;129;01mand\u001b[39;00m \\\n\u001b[0;32m    534\u001b[0m         \u001b[38;5;28mself\u001b[39m\u001b[38;5;241m.\u001b[39m_num_yielded \u001b[38;5;241m>\u001b[39m \u001b[38;5;28mself\u001b[39m\u001b[38;5;241m.\u001b[39m_IterableDataset_len_called:\n",
      "File \u001b[1;32m~\\anaconda3\\envs\\ednaml\\lib\\site-packages\\torch\\utils\\data\\dataloader.py:1207\u001b[0m, in \u001b[0;36m_MultiProcessingDataLoaderIter._next_data\u001b[1;34m(self)\u001b[0m\n\u001b[0;32m   1204\u001b[0m     \u001b[38;5;28;01mreturn\u001b[39;00m \u001b[38;5;28mself\u001b[39m\u001b[38;5;241m.\u001b[39m_process_data(data)\n\u001b[0;32m   1206\u001b[0m \u001b[38;5;28;01massert\u001b[39;00m \u001b[38;5;129;01mnot\u001b[39;00m \u001b[38;5;28mself\u001b[39m\u001b[38;5;241m.\u001b[39m_shutdown \u001b[38;5;129;01mand\u001b[39;00m \u001b[38;5;28mself\u001b[39m\u001b[38;5;241m.\u001b[39m_tasks_outstanding \u001b[38;5;241m>\u001b[39m \u001b[38;5;241m0\u001b[39m\n\u001b[1;32m-> 1207\u001b[0m idx, data \u001b[38;5;241m=\u001b[39m \u001b[38;5;28;43mself\u001b[39;49m\u001b[38;5;241;43m.\u001b[39;49m\u001b[43m_get_data\u001b[49m\u001b[43m(\u001b[49m\u001b[43m)\u001b[49m\n\u001b[0;32m   1208\u001b[0m \u001b[38;5;28mself\u001b[39m\u001b[38;5;241m.\u001b[39m_tasks_outstanding \u001b[38;5;241m-\u001b[39m\u001b[38;5;241m=\u001b[39m \u001b[38;5;241m1\u001b[39m\n\u001b[0;32m   1209\u001b[0m \u001b[38;5;28;01mif\u001b[39;00m \u001b[38;5;28mself\u001b[39m\u001b[38;5;241m.\u001b[39m_dataset_kind \u001b[38;5;241m==\u001b[39m _DatasetKind\u001b[38;5;241m.\u001b[39mIterable:\n\u001b[0;32m   1210\u001b[0m     \u001b[38;5;66;03m# Check for _IterableDatasetStopIteration\u001b[39;00m\n",
      "File \u001b[1;32m~\\anaconda3\\envs\\ednaml\\lib\\site-packages\\torch\\utils\\data\\dataloader.py:1173\u001b[0m, in \u001b[0;36m_MultiProcessingDataLoaderIter._get_data\u001b[1;34m(self)\u001b[0m\n\u001b[0;32m   1169\u001b[0m     \u001b[38;5;66;03m# In this case, `self._data_queue` is a `queue.Queue`,. But we don't\u001b[39;00m\n\u001b[0;32m   1170\u001b[0m     \u001b[38;5;66;03m# need to call `.task_done()` because we don't use `.join()`.\u001b[39;00m\n\u001b[0;32m   1171\u001b[0m \u001b[38;5;28;01melse\u001b[39;00m:\n\u001b[0;32m   1172\u001b[0m     \u001b[38;5;28;01mwhile\u001b[39;00m \u001b[38;5;28;01mTrue\u001b[39;00m:\n\u001b[1;32m-> 1173\u001b[0m         success, data \u001b[38;5;241m=\u001b[39m \u001b[38;5;28;43mself\u001b[39;49m\u001b[38;5;241;43m.\u001b[39;49m\u001b[43m_try_get_data\u001b[49m\u001b[43m(\u001b[49m\u001b[43m)\u001b[49m\n\u001b[0;32m   1174\u001b[0m         \u001b[38;5;28;01mif\u001b[39;00m success:\n\u001b[0;32m   1175\u001b[0m             \u001b[38;5;28;01mreturn\u001b[39;00m data\n",
      "File \u001b[1;32m~\\anaconda3\\envs\\ednaml\\lib\\site-packages\\torch\\utils\\data\\dataloader.py:1011\u001b[0m, in \u001b[0;36m_MultiProcessingDataLoaderIter._try_get_data\u001b[1;34m(self, timeout)\u001b[0m\n\u001b[0;32m    998\u001b[0m \u001b[38;5;28;01mdef\u001b[39;00m \u001b[38;5;21m_try_get_data\u001b[39m(\u001b[38;5;28mself\u001b[39m, timeout\u001b[38;5;241m=\u001b[39m_utils\u001b[38;5;241m.\u001b[39mMP_STATUS_CHECK_INTERVAL):\n\u001b[0;32m    999\u001b[0m     \u001b[38;5;66;03m# Tries to fetch data from `self._data_queue` once for a given timeout.\u001b[39;00m\n\u001b[0;32m   1000\u001b[0m     \u001b[38;5;66;03m# This can also be used as inner loop of fetching without timeout, with\u001b[39;00m\n\u001b[1;32m   (...)\u001b[0m\n\u001b[0;32m   1008\u001b[0m     \u001b[38;5;66;03m# Returns a 2-tuple:\u001b[39;00m\n\u001b[0;32m   1009\u001b[0m     \u001b[38;5;66;03m#   (bool: whether successfully get data, any: data if successful else None)\u001b[39;00m\n\u001b[0;32m   1010\u001b[0m     \u001b[38;5;28;01mtry\u001b[39;00m:\n\u001b[1;32m-> 1011\u001b[0m         data \u001b[38;5;241m=\u001b[39m \u001b[38;5;28;43mself\u001b[39;49m\u001b[38;5;241;43m.\u001b[39;49m\u001b[43m_data_queue\u001b[49m\u001b[38;5;241;43m.\u001b[39;49m\u001b[43mget\u001b[49m\u001b[43m(\u001b[49m\u001b[43mtimeout\u001b[49m\u001b[38;5;241;43m=\u001b[39;49m\u001b[43mtimeout\u001b[49m\u001b[43m)\u001b[49m\n\u001b[0;32m   1012\u001b[0m         \u001b[38;5;28;01mreturn\u001b[39;00m (\u001b[38;5;28;01mTrue\u001b[39;00m, data)\n\u001b[0;32m   1013\u001b[0m     \u001b[38;5;28;01mexcept\u001b[39;00m \u001b[38;5;167;01mException\u001b[39;00m \u001b[38;5;28;01mas\u001b[39;00m e:\n\u001b[0;32m   1014\u001b[0m         \u001b[38;5;66;03m# At timeout and error, we manually check whether any worker has\u001b[39;00m\n\u001b[0;32m   1015\u001b[0m         \u001b[38;5;66;03m# failed. Note that this is the only mechanism for Windows to detect\u001b[39;00m\n\u001b[0;32m   1016\u001b[0m         \u001b[38;5;66;03m# worker failures.\u001b[39;00m\n",
      "File \u001b[1;32m~\\anaconda3\\envs\\ednaml\\lib\\multiprocessing\\queues.py:113\u001b[0m, in \u001b[0;36mQueue.get\u001b[1;34m(self, block, timeout)\u001b[0m\n\u001b[0;32m    111\u001b[0m \u001b[38;5;28;01mif\u001b[39;00m block:\n\u001b[0;32m    112\u001b[0m     timeout \u001b[38;5;241m=\u001b[39m deadline \u001b[38;5;241m-\u001b[39m time\u001b[38;5;241m.\u001b[39mmonotonic()\n\u001b[1;32m--> 113\u001b[0m     \u001b[38;5;28;01mif\u001b[39;00m \u001b[38;5;129;01mnot\u001b[39;00m \u001b[38;5;28;43mself\u001b[39;49m\u001b[38;5;241;43m.\u001b[39;49m\u001b[43m_poll\u001b[49m\u001b[43m(\u001b[49m\u001b[43mtimeout\u001b[49m\u001b[43m)\u001b[49m:\n\u001b[0;32m    114\u001b[0m         \u001b[38;5;28;01mraise\u001b[39;00m Empty\n\u001b[0;32m    115\u001b[0m \u001b[38;5;28;01melif\u001b[39;00m \u001b[38;5;129;01mnot\u001b[39;00m \u001b[38;5;28mself\u001b[39m\u001b[38;5;241m.\u001b[39m_poll():\n",
      "File \u001b[1;32m~\\anaconda3\\envs\\ednaml\\lib\\multiprocessing\\connection.py:262\u001b[0m, in \u001b[0;36m_ConnectionBase.poll\u001b[1;34m(self, timeout)\u001b[0m\n\u001b[0;32m    260\u001b[0m \u001b[38;5;28mself\u001b[39m\u001b[38;5;241m.\u001b[39m_check_closed()\n\u001b[0;32m    261\u001b[0m \u001b[38;5;28mself\u001b[39m\u001b[38;5;241m.\u001b[39m_check_readable()\n\u001b[1;32m--> 262\u001b[0m \u001b[38;5;28;01mreturn\u001b[39;00m \u001b[38;5;28;43mself\u001b[39;49m\u001b[38;5;241;43m.\u001b[39;49m\u001b[43m_poll\u001b[49m\u001b[43m(\u001b[49m\u001b[43mtimeout\u001b[49m\u001b[43m)\u001b[49m\n",
      "File \u001b[1;32m~\\anaconda3\\envs\\ednaml\\lib\\multiprocessing\\connection.py:335\u001b[0m, in \u001b[0;36mPipeConnection._poll\u001b[1;34m(self, timeout)\u001b[0m\n\u001b[0;32m    332\u001b[0m \u001b[38;5;28;01mif\u001b[39;00m (\u001b[38;5;28mself\u001b[39m\u001b[38;5;241m.\u001b[39m_got_empty_message \u001b[38;5;129;01mor\u001b[39;00m\n\u001b[0;32m    333\u001b[0m             _winapi\u001b[38;5;241m.\u001b[39mPeekNamedPipe(\u001b[38;5;28mself\u001b[39m\u001b[38;5;241m.\u001b[39m_handle)[\u001b[38;5;241m0\u001b[39m] \u001b[38;5;241m!=\u001b[39m \u001b[38;5;241m0\u001b[39m):\n\u001b[0;32m    334\u001b[0m     \u001b[38;5;28;01mreturn\u001b[39;00m \u001b[38;5;28;01mTrue\u001b[39;00m\n\u001b[1;32m--> 335\u001b[0m \u001b[38;5;28;01mreturn\u001b[39;00m \u001b[38;5;28mbool\u001b[39m(\u001b[43mwait\u001b[49m\u001b[43m(\u001b[49m\u001b[43m[\u001b[49m\u001b[38;5;28;43mself\u001b[39;49m\u001b[43m]\u001b[49m\u001b[43m,\u001b[49m\u001b[43m \u001b[49m\u001b[43mtimeout\u001b[49m\u001b[43m)\u001b[49m)\n",
      "File \u001b[1;32m~\\anaconda3\\envs\\ednaml\\lib\\multiprocessing\\connection.py:884\u001b[0m, in \u001b[0;36mwait\u001b[1;34m(object_list, timeout)\u001b[0m\n\u001b[0;32m    881\u001b[0m                 ready_objects\u001b[38;5;241m.\u001b[39madd(o)\n\u001b[0;32m    882\u001b[0m                 timeout \u001b[38;5;241m=\u001b[39m \u001b[38;5;241m0\u001b[39m\n\u001b[1;32m--> 884\u001b[0m     ready_handles \u001b[38;5;241m=\u001b[39m \u001b[43m_exhaustive_wait\u001b[49m\u001b[43m(\u001b[49m\u001b[43mwaithandle_to_obj\u001b[49m\u001b[38;5;241;43m.\u001b[39;49m\u001b[43mkeys\u001b[49m\u001b[43m(\u001b[49m\u001b[43m)\u001b[49m\u001b[43m,\u001b[49m\u001b[43m \u001b[49m\u001b[43mtimeout\u001b[49m\u001b[43m)\u001b[49m\n\u001b[0;32m    885\u001b[0m \u001b[38;5;28;01mfinally\u001b[39;00m:\n\u001b[0;32m    886\u001b[0m     \u001b[38;5;66;03m# request that overlapped reads stop\u001b[39;00m\n\u001b[0;32m    887\u001b[0m     \u001b[38;5;28;01mfor\u001b[39;00m ov \u001b[38;5;129;01min\u001b[39;00m ov_list:\n",
      "File \u001b[1;32m~\\anaconda3\\envs\\ednaml\\lib\\multiprocessing\\connection.py:816\u001b[0m, in \u001b[0;36m_exhaustive_wait\u001b[1;34m(handles, timeout)\u001b[0m\n\u001b[0;32m    814\u001b[0m ready \u001b[38;5;241m=\u001b[39m []\n\u001b[0;32m    815\u001b[0m \u001b[38;5;28;01mwhile\u001b[39;00m L:\n\u001b[1;32m--> 816\u001b[0m     res \u001b[38;5;241m=\u001b[39m \u001b[43m_winapi\u001b[49m\u001b[38;5;241;43m.\u001b[39;49m\u001b[43mWaitForMultipleObjects\u001b[49m\u001b[43m(\u001b[49m\u001b[43mL\u001b[49m\u001b[43m,\u001b[49m\u001b[43m \u001b[49m\u001b[38;5;28;43;01mFalse\u001b[39;49;00m\u001b[43m,\u001b[49m\u001b[43m \u001b[49m\u001b[43mtimeout\u001b[49m\u001b[43m)\u001b[49m\n\u001b[0;32m    817\u001b[0m     \u001b[38;5;28;01mif\u001b[39;00m res \u001b[38;5;241m==\u001b[39m WAIT_TIMEOUT:\n\u001b[0;32m    818\u001b[0m         \u001b[38;5;28;01mbreak\u001b[39;00m\n",
      "\u001b[1;31mKeyboardInterrupt\u001b[0m: "
     ]
    }
   ],
   "source": [
    "eml.train()"
   ]
  },
  {
   "cell_type": "code",
   "execution_count": null,
   "id": "0f9354b4",
   "metadata": {},
   "outputs": [],
   "source": []
  }
 ],
 "metadata": {
  "kernelspec": {
   "display_name": "Python 3 (ipykernel)",
   "language": "python",
   "name": "python3"
  },
  "language_info": {
   "codemirror_mode": {
    "name": "ipython",
    "version": 3
   },
   "file_extension": ".py",
   "mimetype": "text/x-python",
   "name": "python",
   "nbconvert_exporter": "python",
   "pygments_lexer": "ipython3",
   "version": "3.9.11"
  }
 },
 "nbformat": 4,
 "nbformat_minor": 5
}
