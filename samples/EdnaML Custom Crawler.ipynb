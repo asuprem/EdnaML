{
 "cells": [
  {
   "cell_type": "markdown",
   "id": "4508ad45",
   "metadata": {},
   "source": [
    "# Setup"
   ]
  },
  {
   "cell_type": "code",
   "execution_count": 1,
   "id": "e7a8b23f",
   "metadata": {},
   "outputs": [],
   "source": [
    "import os.path as osp"
   ]
  },
  {
   "cell_type": "code",
   "execution_count": 2,
   "id": "1aebbde9",
   "metadata": {},
   "outputs": [
    {
     "data": {
      "text/plain": [
       "True"
      ]
     },
     "execution_count": 2,
     "metadata": {},
     "output_type": "execute_result"
    }
   ],
   "source": [
    "cfg=\"../usage-docs/sample-configs/datasets/config-veri.yml\"\n",
    "osp.exists(cfg)"
   ]
  },
  {
   "cell_type": "code",
   "execution_count": 3,
   "id": "26d47c7f",
   "metadata": {},
   "outputs": [],
   "source": [
    "from ednaml.core import EdnaML"
   ]
  },
  {
   "cell_type": "markdown",
   "id": "c8e9f47e",
   "metadata": {},
   "source": [
    "## Define Crawler Class"
   ]
  },
  {
   "cell_type": "code",
   "execution_count": 4,
   "id": "35a84e4a",
   "metadata": {},
   "outputs": [],
   "source": [
    "from collections import defaultdict\n",
    "import os,re,glob,xml.etree.ElementTree as ET\n",
    "class CustomVeRiCrawler:\n",
    "\tdef __init__(A,data_folder='VeRi',train_folder='image_train',test_folder='image_test',query_folder='image_query',**B):A.metadata={};A.data_folder=data_folder;A.train_folder=os.path.join(A.data_folder,train_folder);A.test_folder=os.path.join(A.data_folder,test_folder);A.query_folder=os.path.join(A.data_folder,query_folder);A.tracks_file=os.path.join(A.data_folder,'test_track.txt');A.testlabel=os.path.join(A.data_folder,'test_label.xml');A.trainlabel=os.path.join(A.data_folder,'train_label.xml');A.__verify(A.data_folder);A.__verify(A.train_folder);A.__verify(A.test_folder);A.__verify(A.query_folder);A.crawl()\n",
    "\tdef __verify(B,folder):\n",
    "\t\tA=folder\n",
    "\t\tif not os.path.exists(A):raise IOError('Folder {data_folder} does not exist'.format(data_folder=A))\n",
    "\t\telse:0\n",
    "\tdef crawl(A):\n",
    "\t\tA.colordict=defaultdict(lambda:-1);A.typedict=defaultdict(lambda:-1)\n",
    "\t\twith open(A.trainlabel,'r')as F:E=ET.fromstring(F.read())\n",
    "\t\tfor B in E[0]:D=B.get('vehicleID');G=B.get('colorID');H=B.get('typeID');A.colordict[int(D)]=int(G)-1;A.typedict[int(D)]=int(H)-1\n",
    "\t\twith open(A.testlabel,'r')as F:E=ET.fromstring(F.read())\n",
    "\t\tfor B in E[0]:D=B.get('vehicleID');G=B.get('colorID');H=B.get('typeID');A.colordict[int(D)]=int(G)-1;A.typedict[int(D)]=int(H)-1\n",
    "\t\tdel E;A.classes={};A.classes['color']=10;A.classes['type']=9;A.metadata['train'],A.metadata['test'],A.metadata['query'],A.metadata['track']={},{},{},{};A.metadata['train']['crawl'],A.metadata['train']['pid'],A.metadata['train']['cid'],A.metadata['train']['imgs']=A.__crawl(A.train_folder,reset_labels=True);A.metadata['test']['crawl'],A.metadata['test']['pid'],A.metadata['test']['cid'],A.metadata['test']['imgs']=A.__crawl(A.test_folder);A.metadata['query']['crawl'],A.metadata['query']['pid'],A.metadata['query']['cid'],A.metadata['query']['imgs']=A.__crawl(A.query_folder);A.metadata['track']['crawl'],A.metadata['track']['pid'],A.metadata['track']['cid'],A.metadata['track']['imgs'],A.metadata['track']['dict'],A.metadata['track']['info']=A.__crawltracks(A.test_folder);A.metadata['val'],A.metadata['full']={},{};A.metadata['val']['crawl'],A.metadata['full']['crawl']=[],[]\n",
    "\t\tfor C in ['train','test','val','full']:A.metadata[C]['imgs']=len(A.metadata[C]['crawl']);A.metadata[C]['classes']={};A.metadata[C]['classes']['color']=10;A.metadata[C]['classes']['type']=9;A.metadata[C]['classes']['pid']=A.metadata['train']['pid'];A.metadata[C]['classes']['cid']=A.metadata['train']['cid']\n",
    "\t\tprint('Train\\tPID: {:6d}\\tCID: {:6d}\\tIMGS: {:8d}'.format(A.metadata['train']['pid'],A.metadata['train']['cid'],A.metadata['train']['imgs']));print('Test \\tPID: {:6d}\\tCID: {:6d}\\tIMGS: {:8d}'.format(A.metadata['test']['pid'],A.metadata['test']['cid'],A.metadata['test']['imgs']));print('Query\\tPID: {:6d}\\tCID: {:6d}\\tIMGS: {:8d}'.format(A.metadata['query']['pid'],A.metadata['query']['cid'],A.metadata['query']['imgs']));print('Tracks\\tPID: {:6d}\\tCID: {:6d}\\\\Tracks: {:8d}'.format(A.metadata['track']['pid'],A.metadata['track']['cid'],A.metadata['track']['imgs']))\n",
    "\tdef __crawl(F,folder,reset_labels=False):\n",
    "\t\tI=glob.glob(os.path.join(folder,'*.jpg'));J=re.compile('([\\\\d]+)_[a-z]([\\\\d]+)');G=0;C,D={},{};E=[];K,L,M=0,0,0\n",
    "\t\tfor H in I:\n",
    "\t\t\tA,B=map(int,J.search(H).groups())\n",
    "\t\t\tif A<0:continue\n",
    "\t\t\tif B<0:continue\n",
    "\t\t\tif A not in C:C[A]=G if reset_labels else A;G+=1\n",
    "\t\t\tif B not in D:D[B]=B-1\n",
    "\t\t\tE.append((H,C[A],B-1,F.colordict[A],F.typedict[A]))\n",
    "\t\treturn E,len(C),len(D),len(E)\n",
    "\tdef __crawltracks(D,folder,reset_labels=False):\n",
    "\t\tL=re.compile('([\\\\d]+)_[a-z]([\\\\d]+)');H=0;B,M={},{};E=[];Q,R,S=0,0,0;I,J={},{};F=0\n",
    "\t\twith open(D.tracks_file,'r')as N:\n",
    "\t\t\tfor O in N:\n",
    "\t\t\t\tK=O.strip().split(' ');T=K[0];C=K[1:];C=[os.path.join(folder,A)for A in C];A,G=map(int,L.search(C[0]).groups())\n",
    "\t\t\t\tif A<0:continue\n",
    "\t\t\t\tif G<0:continue\n",
    "\t\t\t\tif A not in B:B[A]=H if reset_labels else A;H+=1\n",
    "\t\t\t\tE.append((C,B[A],G-1,D.colordict[A],D.typedict[A]))\n",
    "\t\t\t\tfor P in C:I[P]=F\n",
    "\t\t\t\tJ[F]={'pid':B[A],'cid':G-1};F+=1\n",
    "\t\treturn E,len(B),len(M),len(E),I,J"
   ]
  },
  {
   "cell_type": "markdown",
   "id": "f4136ab5",
   "metadata": {},
   "source": [
    "## define arguments, type, and instance"
   ]
  },
  {
   "cell_type": "code",
   "execution_count": 5,
   "id": "b08ebd69",
   "metadata": {},
   "outputs": [],
   "source": [
    "crawlerclass = CustomVeRiCrawler\n",
    "crawler_args={\"data_folder\":\"../Data/VeRi\"}"
   ]
  },
  {
   "cell_type": "code",
   "execution_count": 6,
   "id": "ea4a3ed2",
   "metadata": {},
   "outputs": [
    {
     "name": "stdout",
     "output_type": "stream",
     "text": [
      "Train\tPID:    575\tCID:     20\tIMGS:    37746\n",
      "Test \tPID:    200\tCID:     19\tIMGS:    11579\n",
      "Query\tPID:    200\tCID:     19\tIMGS:     1678\n",
      "Tracks\tPID:    200\tCID:      0\\Tracks:     2021\n"
     ]
    }
   ],
   "source": [
    "crawler_instance = crawlerclass(**crawler_args)"
   ]
  },
  {
   "cell_type": "code",
   "execution_count": 7,
   "id": "6b21966c",
   "metadata": {},
   "outputs": [
    {
     "data": {
      "text/plain": [
       "__main__.CustomVeRiCrawler"
      ]
     },
     "execution_count": 7,
     "metadata": {},
     "output_type": "execute_result"
    }
   ],
   "source": [
    "crawlerclass"
   ]
  },
  {
   "cell_type": "code",
   "execution_count": 8,
   "id": "ef72ad90",
   "metadata": {},
   "outputs": [
    {
     "data": {
      "text/plain": [
       "{'data_folder': '../Data/VeRi'}"
      ]
     },
     "execution_count": 8,
     "metadata": {},
     "output_type": "execute_result"
    }
   ],
   "source": [
    "crawler_args"
   ]
  },
  {
   "cell_type": "code",
   "execution_count": 9,
   "id": "5add425c",
   "metadata": {},
   "outputs": [
    {
     "data": {
      "text/plain": [
       "<__main__.CustomVeRiCrawler at 0x186d47673a0>"
      ]
     },
     "execution_count": 9,
     "metadata": {},
     "output_type": "execute_result"
    }
   ],
   "source": [
    "crawler_instance"
   ]
  },
  {
   "cell_type": "code",
   "execution_count": 10,
   "id": "6c7d0927",
   "metadata": {},
   "outputs": [
    {
     "data": {
      "text/plain": [
       "{'color': 10, 'type': 9}"
      ]
     },
     "execution_count": 10,
     "metadata": {},
     "output_type": "execute_result"
    }
   ],
   "source": [
    "crawler_instance.classes"
   ]
  },
  {
   "cell_type": "code",
   "execution_count": null,
   "id": "803c31a7",
   "metadata": {},
   "outputs": [],
   "source": []
  },
  {
   "cell_type": "markdown",
   "id": "af4c3b5b",
   "metadata": {},
   "source": [
    "## Approach 1 -- pass crawler class and arguments"
   ]
  },
  {
   "cell_type": "code",
   "execution_count": 11,
   "id": "107b4354",
   "metadata": {},
   "outputs": [
    {
     "name": "stdout",
     "output_type": "stream",
     "text": [
      "Log file exists at colabel_devel-v1-res18-type\\colabel_devel-v1-res18-type-logger.log. Will attempt to append there.\n"
     ]
    }
   ],
   "source": [
    "eml = EdnaML(cfg, \"train\")"
   ]
  },
  {
   "cell_type": "code",
   "execution_count": 27,
   "id": "82775cc7",
   "metadata": {},
   "outputs": [
    {
     "data": {
      "text/plain": [
       "'VeRi'"
      ]
     },
     "execution_count": 27,
     "metadata": {},
     "output_type": "execute_result"
    }
   ],
   "source": [
    "eml.cfg.EXECUTION.DATAREADER.DATAREADER"
   ]
  },
  {
   "cell_type": "code",
   "execution_count": 29,
   "id": "a78542b7",
   "metadata": {},
   "outputs": [
    {
     "data": {
      "text/plain": [
       "{'data_folder': '../Data/VeRi'}"
      ]
     },
     "execution_count": 29,
     "metadata": {},
     "output_type": "execute_result"
    }
   ],
   "source": [
    "eml.cfg.EXECUTION.DATAREADER.CRAWLER_ARGS"
   ]
  },
  {
   "cell_type": "code",
   "execution_count": 12,
   "id": "3a0500c8",
   "metadata": {},
   "outputs": [],
   "source": [
    "#Imperative\n",
    "eml.cfg.TRANSFORMATION.BATCH_SIZE=64\n",
    "eml.cfg.EXECUTION.SKIPEVAL=False"
   ]
  },
  {
   "cell_type": "code",
   "execution_count": 13,
   "id": "139536ca",
   "metadata": {},
   "outputs": [],
   "source": [
    "eml.addCrawlerClass(crawlerclass, **crawler_args)"
   ]
  },
  {
   "cell_type": "code",
   "execution_count": 14,
   "id": "73814239",
   "metadata": {},
   "outputs": [
    {
     "name": "stderr",
     "output_type": "stream",
     "text": [
      "13:08:27 Reading data with DataReader VeRi\n",
      "13:08:27 Generated training data generator\n",
      "13:08:27 Running classification model with classes: {'color': {'classes': 10}}\n",
      "13:08:27 Generated validation data/query generator\n"
     ]
    },
    {
     "name": "stdout",
     "output_type": "stream",
     "text": [
      "Train\tPID:    575\tCID:     20\tIMGS:    37746\n",
      "Test \tPID:    200\tCID:     19\tIMGS:    11579\n",
      "Query\tPID:    200\tCID:     19\tIMGS:     1678\n",
      "Tracks\tPID:    200\tCID:      0\\Tracks:     2021\n"
     ]
    }
   ],
   "source": [
    "eml.buildDataloaders()"
   ]
  },
  {
   "cell_type": "code",
   "execution_count": 16,
   "id": "5650d0a1",
   "metadata": {},
   "outputs": [
    {
     "data": {
      "text/plain": [
       "{'color': 10, 'type': 9}"
      ]
     },
     "execution_count": 16,
     "metadata": {},
     "output_type": "execute_result"
    }
   ],
   "source": [
    "eml.crawler.classes"
   ]
  },
  {
   "cell_type": "code",
   "execution_count": 20,
   "id": "fedc1c6d",
   "metadata": {},
   "outputs": [
    {
     "data": {
      "text/plain": [
       "<ednaml.generators.ClassificationGenerator.ClassificationDataset at 0x186ac7d28b0>"
      ]
     },
     "execution_count": 20,
     "metadata": {},
     "output_type": "execute_result"
    }
   ],
   "source": [
    "eml.train_generator.dataset"
   ]
  },
  {
   "cell_type": "markdown",
   "id": "7de6d2e4",
   "metadata": {},
   "source": [
    "Generator -- Torch Object contains logic about how many batches, and batch size\n",
    "    Dataset -- Torch Object contains transformations, re sizing, cropping, etc\n",
    "        Crawler -- Our Object contains list of paths\n"
   ]
  },
  {
   "cell_type": "code",
   "execution_count": 22,
   "id": "3c9bfa25",
   "metadata": {},
   "outputs": [
    {
     "data": {
      "text/plain": [
       "{'SHAPE': [100, 100],\n",
       " 'NORMALIZATION_MEAN': 0.5,\n",
       " 'NORMALIZATION_STD': 0.5,\n",
       " 'NORMALIZATION_SCALE': 255,\n",
       " 'H_FLIP': 0.0,\n",
       " 'T_CROP': False,\n",
       " 'RANDOM_ERASE': False,\n",
       " 'RANDOM_ERASE_VALUE': 0.5,\n",
       " 'CHANNELS': 3,\n",
       " 'BATCH_SIZE': 64,\n",
       " 'WORKERS': 1}"
      ]
     },
     "execution_count": 22,
     "metadata": {},
     "output_type": "execute_result"
    }
   ],
   "source": [
    "eml.cfg.TRANSFORMATION.__dict__"
   ]
  },
  {
   "cell_type": "code",
   "execution_count": null,
   "id": "ca82fe98",
   "metadata": {},
   "outputs": [],
   "source": []
  },
  {
   "cell_type": "code",
   "execution_count": null,
   "id": "09fd2d7c",
   "metadata": {},
   "outputs": [],
   "source": []
  },
  {
   "cell_type": "code",
   "execution_count": null,
   "id": "007c1acb",
   "metadata": {},
   "outputs": [],
   "source": [
    "eml.apply()"
   ]
  },
  {
   "cell_type": "code",
   "execution_count": null,
   "id": "028beb30",
   "metadata": {},
   "outputs": [],
   "source": [
    "eml.train()"
   ]
  },
  {
   "cell_type": "markdown",
   "id": "c90badc8",
   "metadata": {},
   "source": [
    "## Approach 2 -- pass crawler instance directly"
   ]
  },
  {
   "cell_type": "code",
   "execution_count": null,
   "id": "38d5ba85",
   "metadata": {},
   "outputs": [],
   "source": [
    "eml = EdnaML(cfg, \"train\")"
   ]
  },
  {
   "cell_type": "code",
   "execution_count": null,
   "id": "3d677bb2",
   "metadata": {},
   "outputs": [],
   "source": [
    "eml.cfg.TRANSFORMATION.BATCH_SIZE=64\n",
    "eml.cfg.EXECUTION.SKIPEVAL=False"
   ]
  },
  {
   "cell_type": "code",
   "execution_count": null,
   "id": "c778ebee",
   "metadata": {},
   "outputs": [],
   "source": [
    "eml.addCrawler(crawler_instance)"
   ]
  },
  {
   "cell_type": "code",
   "execution_count": null,
   "id": "1abc7173",
   "metadata": {},
   "outputs": [],
   "source": [
    "eml.apply()"
   ]
  },
  {
   "cell_type": "code",
   "execution_count": null,
   "id": "b6b8585a",
   "metadata": {},
   "outputs": [],
   "source": [
    "eml.train()"
   ]
  },
  {
   "cell_type": "code",
   "execution_count": null,
   "id": "0f9354b4",
   "metadata": {},
   "outputs": [],
   "source": []
  }
 ],
 "metadata": {
  "kernelspec": {
   "display_name": "Python 3 (ipykernel)",
   "language": "python",
   "name": "python3"
  },
  "language_info": {
   "codemirror_mode": {
    "name": "ipython",
    "version": 3
   },
   "file_extension": ".py",
   "mimetype": "text/x-python",
   "name": "python",
   "nbconvert_exporter": "python",
   "pygments_lexer": "ipython3",
   "version": "3.9.11"
  }
 },
 "nbformat": 4,
 "nbformat_minor": 5
}
