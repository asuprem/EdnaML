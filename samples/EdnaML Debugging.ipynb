{
 "cells": [
  {
   "cell_type": "code",
   "execution_count": null,
   "id": "464be63a",
   "metadata": {},
   "outputs": [],
   "source": [
    "import os.path as osp"
   ]
  },
  {
   "cell_type": "code",
   "execution_count": null,
   "id": "c96bb767",
   "metadata": {},
   "outputs": [],
   "source": [
    "cfg=\"../usage-docs/sample-configs/datasets/config-veri.yml\"\n",
    "osp.exists(cfg)"
   ]
  },
  {
   "cell_type": "code",
   "execution_count": null,
   "id": "5fbd1fe3",
   "metadata": {},
   "outputs": [],
   "source": [
    "from ednaml.core import EdnaML"
   ]
  },
  {
   "cell_type": "markdown",
   "id": "156f4a7b",
   "metadata": {},
   "source": [
    "### Testing EdnaML"
   ]
  },
  {
   "cell_type": "code",
   "execution_count": null,
   "id": "74f3ecb6",
   "metadata": {},
   "outputs": [],
   "source": [
    "eml=EdnaML(cfg, \"train\")"
   ]
  },
  {
   "cell_type": "code",
   "execution_count": null,
   "id": "38205416",
   "metadata": {},
   "outputs": [],
   "source": [
    "eml.config"
   ]
  },
  {
   "cell_type": "code",
   "execution_count": null,
   "id": "10122e84",
   "metadata": {},
   "outputs": [],
   "source": [
    "eml.mode, eml.weights, eml.pretrained_weights, eml.verbose"
   ]
  },
  {
   "cell_type": "code",
   "execution_count": null,
   "id": "e88b581e",
   "metadata": {},
   "outputs": [],
   "source": [
    "eml.cfg.__dict__[\"LOSS_OPTIMIZER\"][0].__dict__"
   ]
  },
  {
   "cell_type": "code",
   "execution_count": null,
   "id": "54c0675f",
   "metadata": {},
   "outputs": [],
   "source": [
    "eml.saveMetadata.__dict__"
   ]
  },
  {
   "cell_type": "code",
   "execution_count": null,
   "id": "e401c661",
   "metadata": {},
   "outputs": [],
   "source": [
    "eml.gpus, eml.drive_backup, eml.previous_stop, eml.epochs, eml.skipeval, eml.fp16"
   ]
  },
  {
   "cell_type": "code",
   "execution_count": null,
   "id": "221d48f2",
   "metadata": {},
   "outputs": [],
   "source": [
    "# Fixing path for this\n",
    "eml.cfg.EXECUTION.DATAREADER.CRAWLER_ARGS[\"data_folder\"] = \"../Data/VeRi\"\n",
    "eml.cfg.TRANSFORMATION.BATCH_SIZE=64\n",
    "eml.cfg.EXECUTION.SKIPEVAL=False"
   ]
  },
  {
   "cell_type": "code",
   "execution_count": null,
   "id": "a4635c32",
   "metadata": {},
   "outputs": [],
   "source": [
    "osp.exists(eml.cfg.EXECUTION.DATAREADER.CRAWLER_ARGS[\"data_folder\"])"
   ]
  },
  {
   "cell_type": "markdown",
   "id": "b554f8ea",
   "metadata": {},
   "source": [
    "### Steps"
   ]
  },
  {
   "cell_type": "markdown",
   "id": "e07530bd",
   "metadata": {},
   "source": [
    "#### Setup"
   ]
  },
  {
   "cell_type": "code",
   "execution_count": null,
   "id": "3a27870c",
   "metadata": {},
   "outputs": [],
   "source": [
    "eml.setup()"
   ]
  },
  {
   "cell_type": "markdown",
   "id": "fe2adbec",
   "metadata": {},
   "source": [
    "#### previous_stop"
   ]
  },
  {
   "cell_type": "code",
   "execution_count": null,
   "id": "20aa85af",
   "metadata": {},
   "outputs": [],
   "source": [
    "print(eml.previous_stop)\n",
    "eml.setPreviousStop()\n",
    "print(eml.previous_stop)"
   ]
  },
  {
   "cell_type": "markdown",
   "id": "b5670479",
   "metadata": {},
   "source": [
    "#### dataloaders"
   ]
  },
  {
   "cell_type": "code",
   "execution_count": null,
   "id": "f91b6528",
   "metadata": {},
   "outputs": [],
   "source": [
    "eml.buildDataloaders()"
   ]
  },
  {
   "cell_type": "code",
   "execution_count": null,
   "id": "fd32ec83",
   "metadata": {},
   "outputs": [],
   "source": [
    "eml.crawler.classes"
   ]
  },
  {
   "cell_type": "code",
   "execution_count": null,
   "id": "c3072eb3",
   "metadata": {},
   "outputs": [],
   "source": [
    "eml.train_generator.dataloader.__dict__"
   ]
  },
  {
   "cell_type": "code",
   "execution_count": null,
   "id": "730b37c4",
   "metadata": {},
   "outputs": [],
   "source": []
  },
  {
   "cell_type": "markdown",
   "id": "4a43f248",
   "metadata": {},
   "source": [
    "#### model"
   ]
  },
  {
   "cell_type": "code",
   "execution_count": null,
   "id": "67802404",
   "metadata": {},
   "outputs": [],
   "source": [
    "eml.buildModel()\n",
    "eml.loadWeights()\n",
    "eml.getModelSummary()"
   ]
  },
  {
   "cell_type": "markdown",
   "id": "a93da242",
   "metadata": {},
   "source": [
    "#### optimizer+scheduler"
   ]
  },
  {
   "cell_type": "code",
   "execution_count": null,
   "id": "aa8d3bdb",
   "metadata": {},
   "outputs": [],
   "source": [
    "eml.buildOptimizer()\n",
    "eml.buildScheduler()"
   ]
  },
  {
   "cell_type": "code",
   "execution_count": null,
   "id": "f050917b",
   "metadata": {},
   "outputs": [],
   "source": [
    "eml.optimizer"
   ]
  },
  {
   "cell_type": "code",
   "execution_count": null,
   "id": "f5eaaf1b",
   "metadata": {},
   "outputs": [],
   "source": [
    "eml.scheduler[0].__dict__"
   ]
  },
  {
   "cell_type": "markdown",
   "id": "562590ea",
   "metadata": {},
   "source": [
    "#### losses"
   ]
  },
  {
   "cell_type": "code",
   "execution_count": null,
   "id": "6797d8eb",
   "metadata": {},
   "outputs": [],
   "source": [
    "eml.buildLossArray()"
   ]
  },
  {
   "cell_type": "code",
   "execution_count": null,
   "id": "606a69af",
   "metadata": {},
   "outputs": [],
   "source": [
    "eml.loss_function_array[0].__dict__"
   ]
  },
  {
   "cell_type": "code",
   "execution_count": null,
   "id": "4828602f",
   "metadata": {},
   "outputs": [],
   "source": [
    "eml.labelMetadata"
   ]
  },
  {
   "cell_type": "markdown",
   "id": "6486112a",
   "metadata": {},
   "source": [
    "#### loss opt+schedule"
   ]
  },
  {
   "cell_type": "code",
   "execution_count": null,
   "id": "9d43275e",
   "metadata": {},
   "outputs": [],
   "source": [
    "eml.buildLossOptimizer()\n",
    "eml.buildLossScheduler()"
   ]
  },
  {
   "cell_type": "code",
   "execution_count": null,
   "id": "18b20295",
   "metadata": {},
   "outputs": [],
   "source": [
    "eml.loss_scheduler"
   ]
  },
  {
   "cell_type": "markdown",
   "id": "63af2b30",
   "metadata": {},
   "source": [
    "#### trainer"
   ]
  },
  {
   "cell_type": "code",
   "execution_count": null,
   "id": "b13b7e36",
   "metadata": {},
   "outputs": [],
   "source": [
    "eml.buildTrainer()"
   ]
  },
  {
   "cell_type": "markdown",
   "id": "b9ba27f3",
   "metadata": {},
   "source": [
    "#### test training???"
   ]
  },
  {
   "cell_type": "code",
   "execution_count": null,
   "id": "57cd0e5e",
   "metadata": {},
   "outputs": [],
   "source": [
    "eml.train()"
   ]
  },
  {
   "cell_type": "code",
   "execution_count": null,
   "id": "7f252670",
   "metadata": {},
   "outputs": [],
   "source": [
    "eml.train()"
   ]
  },
  {
   "cell_type": "code",
   "execution_count": null,
   "id": "3f54618b",
   "metadata": {},
   "outputs": [],
   "source": []
  }
 ],
 "metadata": {
  "kernelspec": {
   "display_name": "Python 3 (ipykernel)",
   "language": "python",
   "name": "python3"
  },
  "language_info": {
   "codemirror_mode": {
    "name": "ipython",
    "version": 3
   },
   "file_extension": ".py",
   "mimetype": "text/x-python",
   "name": "python",
   "nbconvert_exporter": "python",
   "pygments_lexer": "ipython3",
   "version": "3.9.11"
  }
 },
 "nbformat": 4,
 "nbformat_minor": 5
}
